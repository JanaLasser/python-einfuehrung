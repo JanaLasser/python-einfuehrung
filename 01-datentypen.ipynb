{
 "cells": [
  {
   "cell_type": "markdown",
   "metadata": {},
   "source": [
    "# Zeitplan"
   ]
  },
  {
   "cell_type": "markdown",
   "metadata": {},
   "source": [
    "**09:15 - 09:30**  $\\quad$ Vorstellung  \n",
    "**09:30 - 10:00**  $\\quad$ Input: _Datentypen_  \n",
    "**10:00 - 10:45**  $\\quad$ Übung 01: _Datentypen_  \n",
    "**10:45 - 11:00**  $\\quad$ Kaffeepause  \n",
    "**11:00 - 11:15**  $\\quad$ Input: _Listen_  \n",
    "**11:15 - 12:00**  $\\quad$ Übung 02: _Listen_  \n",
    "\n",
    "**12:00 - 13:00**  $\\quad$ Mittagspause  \n",
    "\n",
    "**13:00 - 13:30**  $\\quad$ Input: _Logik und Verzweigungen_  \n",
    "**13:30 - 14:15**  $\\quad$ Übung 03: _Logik und Verzweigungen_  \n",
    "**14:15 - 14:30**  $\\quad$ Kaffeepause  \n",
    "**14:30 - 15:00**  $\\quad$ Input: _Mehr Listen_  \n",
    "**15:00 - 16:00**  $\\quad$ Übung 04: _Mehr Listen_  \n",
    "**16:00 - 16:15**  $\\quad$ Fragen & Feedback"
   ]
  },
  {
   "cell_type": "markdown",
   "metadata": {},
   "source": [
    "# Einleitung"
   ]
  },
  {
   "cell_type": "markdown",
   "metadata": {},
   "source": [
    "## Kurs-Philosophie"
   ]
  },
  {
   "cell_type": "markdown",
   "metadata": {},
   "source": [
    "* Wir starten bei null, absolut kein Programmier-Vorwissen vorausgesetzt (hoffentlich)\n",
    "* Kurze Vorträge, lange Übungen (20-30 min vs 45-60 min)\n",
    "* Fragen/Unterbrechungen sind erlaubt und erwünscht!\n",
    "* Programmieren finden meist auf Englisch statt - be prepared!\n",
    "* Programmiereralltag = 50% Fragen und Googeln, 40% Fehlersuche und 10% Coden"
   ]
  },
  {
   "cell_type": "markdown",
   "metadata": {},
   "source": [
    "## Warum Programmieren?"
   ]
  },
  {
   "cell_type": "markdown",
   "metadata": {},
   "source": [
    "Programmieren ist \"Sprechen mit dem Computer\". Manchmal gibt es keine fertige Software für die Aufgabe, die wir erledigen müssen, dann ist es sehr hilfreich, ein kurzes Script schreiben zu können, das die Aufgabe erledigt. Je spezialisierter der Teilbereich der Wissenschaft, desto wahrscheinlicher gibt es noch keine fertigen Lösungen.\n",
    "* Automatisierung von repititiven Tätigkeiten (schon mal mehr als 100 Dateien per Hand umbenannt?)\n",
    "* Umgang mit großen Datenmengen (3D Punktwolken, Rasterdaten, lange Listen von Objekten...)\n",
    "* Anspruchsvolle Bearbeitungslogik\n",
    "* Simulationen, Lösen von Differenzialgleichungen\n",
    "* Anspruchsvolle Plots\n",
    "* Reproduzierbarkeit & Transparenz\n",
    "* ..."
   ]
  },
  {
   "cell_type": "markdown",
   "metadata": {},
   "source": [
    "## Warum Python?"
   ]
  },
  {
   "cell_type": "markdown",
   "metadata": {},
   "source": [
    "* Skriptsprache: einfach zu lernen, schnell anwendbar\n",
    "* Sehr wenig Overhead (Ausführen direkt im Editor, kein Kompilieren)\n",
    "* Riesige Community = viel Hilfe bei Fragen, einfache Installation\n",
    "* Sehr gute Dokumentation\n",
    "* Open Source"
   ]
  },
  {
   "cell_type": "markdown",
   "metadata": {},
   "source": [
    "<a name=\"top\"></a>Übersicht: Datentypen\n",
    "==="
   ]
  },
  {
   "cell_type": "markdown",
   "metadata": {},
   "source": [
    "* [Variablen](#variablen)\n",
    "  * [Werte](#werte)\n",
    "  * [Namen](#namen)\n",
    "  * [Fehler](#fehler)\n",
    "* [Datentypen](#datentypen)\n",
    "  * [Zahlen](#zahlen)\n",
    "  * [Strings (Zeichenketten)](#strings)\n",
    "  * [Kommentare](#kommentare)\n",
    "* [Das Jupyter Notebook](#jupyter)\n",
    "  * [Ein paar Kommandos](#kommandos)\n",
    "  * [Das Dashboard](#dashboard)\n",
    "* [Übung 01: Variablen und Datentypen](#uebung01)"
   ]
  },
  {
   "cell_type": "markdown",
   "metadata": {},
   "source": [
    "**Lernziele:** Am Ende dieser Einheit\n",
    "* habt ihr ein Grundverständnis dafür, wie Programmieren funktioniert und warum es hilfreich sein kann, es zu lernen,\n",
    "* könnt ihr Python zumindest schon mal als Taschenrechner einsetzen,\n",
    "* wisst, wie ihr euren Code mittels Kommentaren lesbar und verständlich macht und\n",
    "* könnt mit Jupyter-Notebooks umgehen."
   ]
  },
  {
   "cell_type": "markdown",
   "metadata": {},
   "source": [
    "[top](#top)"
   ]
  },
  {
   "cell_type": "markdown",
   "metadata": {},
   "source": [
    "<a name=\"variablen\"></a>Variablen\n",
    "==="
   ]
  },
  {
   "cell_type": "markdown",
   "metadata": {},
   "source": [
    "<a name='werte'></a>Werte\n",
    "---"
   ]
  },
  {
   "cell_type": "markdown",
   "metadata": {},
   "source": [
    "Eine Variable hat einen Namen und einen Wert.  \n",
    "Ich weise einer Variablen einen Wert mit '=' zu:"
   ]
  },
  {
   "cell_type": "code",
   "execution_count": 2,
   "metadata": {
    "collapsed": true
   },
   "outputs": [],
   "source": [
    "a = 10  #Variable = Wert"
   ]
  },
  {
   "cell_type": "markdown",
   "metadata": {},
   "source": [
    "Indem ich einer Variablen einen Wert zuweise, *definiere* ich sie. Nachdem ich eine Variable definiert habe, ist sie bekannt und ich kann sie für Berechnungen benutzen.  \n",
    "\n",
    "Ich kann mir den Wert einer Variablen mit der ```print()``` *Funktion* ausgeben lassen (mehr zu Funktionen später!), er wird dann auf der 'Kommandozeile' angezeigt:"
   ]
  },
  {
   "cell_type": "code",
   "execution_count": 3,
   "metadata": {},
   "outputs": [
    {
     "name": "stdout",
     "output_type": "stream",
     "text": [
      "10\n"
     ]
    }
   ],
   "source": [
    "print(a)   #Ausgabe des Wertes"
   ]
  },
  {
   "cell_type": "markdown",
   "metadata": {},
   "source": [
    " Ich kann den Wert einer Variablen zu jeder Zeit verändern, die Variable speichert dann den neuen Wert."
   ]
  },
  {
   "cell_type": "code",
   "execution_count": 4,
   "metadata": {},
   "outputs": [
    {
     "name": "stdout",
     "output_type": "stream",
     "text": [
      "100\n",
      "50\n",
      "25.0\n"
     ]
    }
   ],
   "source": [
    "b = 100    #neue Variable 'b' mit Wert 100\n",
    "print(b)   #Anzeigen auf der Kommandozeile\n",
    "\n",
    "b = 50     #neuer Wert für die Variable 'b'\n",
    "print(b)\n",
    "\n",
    "b = b/2    #noch ein neuer Wert\n",
    "print(b)"
   ]
  },
  {
   "cell_type": "markdown",
   "metadata": {},
   "source": [
    "[top](#top)"
   ]
  },
  {
   "cell_type": "markdown",
   "metadata": {},
   "source": [
    "<a name='namen'></a>Namen\n",
    "---"
   ]
  },
  {
   "cell_type": "markdown",
   "metadata": {},
   "source": [
    "In den Beispielen oben hatten die Variablen die Namen 'a' und 'b'. Es ist eine gute Idee, Variablen Namen mit mehr Aussagekraft zu geben:"
   ]
  },
  {
   "cell_type": "code",
   "execution_count": 5,
   "metadata": {},
   "outputs": [
    {
     "name": "stdout",
     "output_type": "stream",
     "text": [
      "10\n",
      "25.0\n"
     ]
    }
   ],
   "source": [
    "example_var_1 = a    #weise example_var_1 den Wert von a zu\n",
    "example_var_2 = b\n",
    "\n",
    "print(example_var_1) #überprüfe, dass der Wert stimmt\n",
    "print(example_var_2)"
   ]
  },
  {
   "cell_type": "markdown",
   "metadata": {},
   "source": [
    "Variablennamen können Buchstaben, Zahlen und Unterstriche (underscores) enthalten. Da der Computer aber immer noch *interpretieren* muss, was wir mit unserem Code meinen, gibt es ein paar Regeln für Variablennamen:"
   ]
  },
  {
   "cell_type": "markdown",
   "metadata": {},
   "source": [
    "* Variablen können mit einem Buchstaben/Unterstrich anfangen, nicht jedoch mit einer Zahl\n",
    "* Leerzeichen sind in Variablennamen nicht erlaubt (der Computer denkt dann, eine neue Variable beginnt)! Benutze Unterstriche stattdessen: \"student_name\" statt \"student name\"\n",
    "* Kontroll-Statements (Keywords) können keine Variablennamen sein (mehr dazu später)\n",
    "* Variablennamen sollten beschreibend aber nicht zu lang sein. Zum Beispiel \"uni_rooms\" ist besser als einfach nur \"rooms\" und \"number_of_rooms_at_the_university\".\n",
    "* Vermeide Umlaute in Variablennamen!"
   ]
  },
  {
   "cell_type": "markdown",
   "metadata": {},
   "source": [
    "[top](#top)"
   ]
  },
  {
   "cell_type": "markdown",
   "metadata": {},
   "source": [
    "<a name='fehler'></a>Fehler\n",
    "---"
   ]
  },
  {
   "cell_type": "markdown",
   "metadata": {},
   "source": [
    "Schreiben wir in unserem Programm etwas, das der Computer nicht versteht, kommt es zu einem Fehler. Das ist nicht schlimm, passiert allen die ganze Zeit und meist sagt uns der Computer direkt, was er nicht verstanden hat."
   ]
  },
  {
   "cell_type": "code",
   "execution_count": 6,
   "metadata": {},
   "outputs": [
    {
     "ename": "NameError",
     "evalue": "name 'uni_roms' is not defined",
     "output_type": "error",
     "traceback": [
      "\u001b[0;31m---------------------------------------------------------------------------\u001b[0m",
      "\u001b[0;31mNameError\u001b[0m                                 Traceback (most recent call last)",
      "\u001b[0;32m<ipython-input-6-201bd82129aa>\u001b[0m in \u001b[0;36m<module>\u001b[0;34m()\u001b[0m\n\u001b[1;32m      1\u001b[0m \u001b[0muni_rooms\u001b[0m \u001b[0;34m=\u001b[0m \u001b[0;36m83\u001b[0m\u001b[0;34m\u001b[0m\u001b[0m\n\u001b[0;32m----> 2\u001b[0;31m \u001b[0mprint\u001b[0m\u001b[0;34m(\u001b[0m\u001b[0muni_roms\u001b[0m\u001b[0;34m)\u001b[0m\u001b[0;34m\u001b[0m\u001b[0m\n\u001b[0m",
      "\u001b[0;31mNameError\u001b[0m: name 'uni_roms' is not defined"
     ]
    }
   ],
   "source": [
    "uni_rooms = 83\n",
    "print(uni_roms)"
   ]
  },
  {
   "cell_type": "markdown",
   "metadata": {},
   "source": [
    "Die Anatomie einer Fehlermeldung:\n",
    "* Typ der Fehlermeldung (NameError)\n",
    "* Script das für den Fehler verantwortlich war (hier nicht hilfreich...)\n",
    "* Die Zeile, in der der Fehler passiert ist\n",
    "* Die Ursache für den Fehler"
   ]
  },
  {
   "cell_type": "code",
   "execution_count": 7,
   "metadata": {},
   "outputs": [
    {
     "name": "stdout",
     "output_type": "stream",
     "text": [
      "83\n"
     ]
    }
   ],
   "source": [
    "print(uni_rooms)"
   ]
  },
  {
   "cell_type": "markdown",
   "metadata": {},
   "source": [
    "[top](#top)"
   ]
  },
  {
   "cell_type": "markdown",
   "metadata": {},
   "source": [
    "<a name=\"datentypen\"></a>Datentypen\n",
    "==="
   ]
  },
  {
   "cell_type": "markdown",
   "metadata": {},
   "source": [
    "<a name='zahlen'></a>Zahlen\n",
    "---"
   ]
  },
  {
   "cell_type": "markdown",
   "metadata": {},
   "source": [
    "##### Integers"
   ]
  },
  {
   "cell_type": "markdown",
   "metadata": {},
   "source": [
    "Wie schon in den Beispielen oben demonstriert: Variablen können Zahlen als Werte haben. Ist der Wert ganzzahlig, sprechen wir von einem *Integer*. Mit Zahlen können wir Arithmetik wie mit einem Taschenrechner ausführen:"
   ]
  },
  {
   "cell_type": "markdown",
   "metadata": {},
   "source": [
    "Plus und Minus Rechnung mit den \"+\" und \"-\" Symbolen:"
   ]
  },
  {
   "cell_type": "code",
   "execution_count": 8,
   "metadata": {},
   "outputs": [
    {
     "name": "stdout",
     "output_type": "stream",
     "text": [
      "13\n"
     ]
    }
   ],
   "source": [
    "print(10 + 3)"
   ]
  },
  {
   "cell_type": "code",
   "execution_count": 9,
   "metadata": {},
   "outputs": [
    {
     "name": "stdout",
     "output_type": "stream",
     "text": [
      "7\n"
     ]
    }
   ],
   "source": [
    "print(10 - 3)"
   ]
  },
  {
   "cell_type": "code",
   "execution_count": 10,
   "metadata": {},
   "outputs": [
    {
     "name": "stdout",
     "output_type": "stream",
     "text": [
      "73\n"
     ]
    }
   ],
   "source": [
    "# neue Variable für Toiletten\n",
    "uni_toilets = 10\n",
    "\n",
    "# berechne Anzahl der nicht-Toiletten und speichere das\n",
    "# Ergebnis in einer neuen Variable\n",
    "non_toilets = uni_rooms - uni_toilets \n",
    "\n",
    "#gib das Ergebnis aus\n",
    "print(non_toilets)"
   ]
  },
  {
   "cell_type": "markdown",
   "metadata": {},
   "source": [
    "Multiplikation und Potenz mit den \"\\*\" und \"\\**\" Symbolen:"
   ]
  },
  {
   "cell_type": "code",
   "execution_count": 11,
   "metadata": {},
   "outputs": [
    {
     "name": "stdout",
     "output_type": "stream",
     "text": [
      "30\n"
     ]
    }
   ],
   "source": [
    "print(10 * 3)"
   ]
  },
  {
   "cell_type": "code",
   "execution_count": 12,
   "metadata": {},
   "outputs": [
    {
     "name": "stdout",
     "output_type": "stream",
     "text": [
      "1000\n"
     ]
    }
   ],
   "source": [
    "print(10 ** 3)"
   ]
  },
  {
   "cell_type": "code",
   "execution_count": 17,
   "metadata": {},
   "outputs": [
    {
     "name": "stdout",
     "output_type": "stream",
     "text": [
      "16384\n"
     ]
    }
   ],
   "source": [
    "# berechne die Potenzen von 2\n",
    "c = 2\n",
    "d = 14\n",
    "result = c ** d\n",
    "print(result)"
   ]
  },
  {
   "cell_type": "markdown",
   "metadata": {},
   "source": [
    "Wie mit jedem Taschenrechner auch, können wir Klammern verwenden um die Reihenfolge der Operationen (normal: Punkt vor Strich) zu verändern:"
   ]
  },
  {
   "cell_type": "code",
   "execution_count": 18,
   "metadata": {},
   "outputs": [
    {
     "name": "stdout",
     "output_type": "stream",
     "text": [
      "14\n",
      "20\n"
     ]
    }
   ],
   "source": [
    "standard_order = 2 + 3 * 4   # normale Reihenfolge\n",
    "changed_order = (2 + 3) * 4  # veränderte Reihenfolge\n",
    "\n",
    "print(standard_order)\n",
    "print(changed_order)"
   ]
  },
  {
   "cell_type": "markdown",
   "metadata": {},
   "source": [
    "Division realisieren wir mit dem \"/\" Symbol:"
   ]
  },
  {
   "cell_type": "code",
   "execution_count": 19,
   "metadata": {},
   "outputs": [
    {
     "name": "stdout",
     "output_type": "stream",
     "text": [
      "3.3333333333333335\n"
     ]
    }
   ],
   "source": [
    "print(10/3)"
   ]
  },
  {
   "cell_type": "markdown",
   "metadata": {},
   "source": [
    "##### Floating point numbers"
   ]
  },
  {
   "cell_type": "markdown",
   "metadata": {},
   "source": [
    "Ergibt eine Rechnung ein nicht-ganzzahliges Ergebnis, wird automatisch eine sog. \"floating point\" Zahl (Gleitkommazahl) oder kurz ein \"float\" erzeugt.  \n",
    "\n",
    "**WICHTIG**: floats sind *nicht* unendlich lang! In der 16. Nachkommastelle wird hier schon gerundet, das kann zu Genauigkeitsverlust und Fehlern führen!"
   ]
  },
  {
   "cell_type": "markdown",
   "metadata": {},
   "source": [
    "Die Art des Wertes, den eine Variable speichert, nennen wir den *Typ* der Variablen. Wir können ihn herausfinden, indem wir die ```type()``` Funktion benutzen:"
   ]
  },
  {
   "cell_type": "code",
   "execution_count": 20,
   "metadata": {},
   "outputs": [
    {
     "name": "stdout",
     "output_type": "stream",
     "text": [
      "<class 'int'>\n",
      "<class 'int'>\n",
      "<class 'float'>\n"
     ]
    }
   ],
   "source": [
    "# definiere Variablen a und b\n",
    "a = 10\n",
    "b = 3\n",
    "\n",
    "# berechne a/b und weise das Ergebnis c zu\n",
    "c = a/b\n",
    "\n",
    "# gib die Typen von a, b und c aus\n",
    "print(type(a))\n",
    "print(type(b))\n",
    "print(type(c))"
   ]
  },
  {
   "cell_type": "markdown",
   "metadata": {},
   "source": [
    "##### Variablen-Typen"
   ]
  },
  {
   "cell_type": "markdown",
   "metadata": {},
   "source": [
    "Wollen wir tatsächlich Division \"ohne Rest\" realisieren, können wir Variablen dazu \"zwingen\", einen Integer-Wert zu speichern (das funktioniert auch umgekehrt, wenn wir aus einem Integer einen Float machen wollen).  \n",
    "\n",
    "Wir benutzen dafür die Funk\n",
    "tionen ```int()``` und ```float()``` (diesen Vorgang des Konvertierens nennt man auch \"cast\"): "
   ]
  },
  {
   "cell_type": "code",
   "execution_count": 21,
   "metadata": {},
   "outputs": [
    {
     "name": "stdout",
     "output_type": "stream",
     "text": [
      "3.3333333333333335\n",
      "3\n",
      "10\n",
      "10.0\n"
     ]
    }
   ],
   "source": [
    "# c ist aktuell ein Float\n",
    "c = a/b\n",
    "print(c)\n",
    "\n",
    "# wir machen nun ein Integer daraus\n",
    "c = int(c)\n",
    "print(c)\n",
    "\n",
    "# a ist aktuell ein Integer\n",
    "a = 10\n",
    "print(a)\n",
    "\n",
    "# nun casten wir es als Float\n",
    "a = float(a)\n",
    "print(a)"
   ]
  },
  {
   "cell_type": "markdown",
   "metadata": {},
   "source": [
    "[top](#top)"
   ]
  },
  {
   "cell_type": "markdown",
   "metadata": {},
   "source": [
    "<a name='strings'></a>Strings (Zeichenketten)\n",
    "---"
   ]
  },
  {
   "cell_type": "markdown",
   "metadata": {},
   "source": [
    "Variablen können also verschiedene Arten von Zahlen speichern. Sie können aber noch viel mehr! Wir können ihnen z.B. Zeichenketten (Buchstaben oder Wörter), sogenannte \"Strings\" zuweisen:"
   ]
  },
  {
   "cell_type": "code",
   "execution_count": 28,
   "metadata": {},
   "outputs": [
    {
     "name": "stdout",
     "output_type": "stream",
     "text": [
      "katzeklnslernsskdrjlokseltj\n"
     ]
    }
   ],
   "source": [
    "tier = \"katzeklnslerns\\\n",
    "skdrjlokseltj\"\n",
    "print(tier)"
   ]
  },
  {
   "cell_type": "markdown",
   "metadata": {},
   "source": [
    "* Strings sind also Mengen von Zeichen (Buchstaben und Symbole). Meistens benutzen wir sie, um Text zu speichern.\n",
    "* Strings definieren wir, indem wir die Zeichenkette entweder in Anführungszeichen oder Apostrohpen einschließen (so weiß das Programm, wo der String anfängt und wieder aufhört).\n",
    "* Um Zeilenumbrüche zu erhalten ohne den String zu \"schließen\", benutzen wir den Backslash, das sog. \"escape\"-Zeichen \"\\\".\n",
    "* Strings die über mehrere Zeilen gehen können wir mit dreifach-Apostrophen deklarieren."
   ]
  },
  {
   "cell_type": "markdown",
   "metadata": {},
   "source": [
    "##### String Beispiele"
   ]
  },
  {
   "cell_type": "code",
   "execution_count": 29,
   "metadata": {},
   "outputs": [
    {
     "name": "stdout",
     "output_type": "stream",
     "text": [
      "Katzen sind niedlicher als Hunde\n"
     ]
    }
   ],
   "source": [
    "# benutze den String um Text zu speichern\n",
    "fact = \"Katzen sind niedlicher als Hunde\"\n",
    "print(fact)"
   ]
  },
  {
   "cell_type": "code",
   "execution_count": 30,
   "metadata": {},
   "outputs": [
    {
     "name": "stdout",
     "output_type": "stream",
     "text": [
      "katze\n",
      "hund\n",
      "\"vogel\"\n"
     ]
    }
   ],
   "source": [
    "# deklariere einen String mit \"\n",
    "tier1 = \"katze\"\n",
    "\n",
    "# oder mit '\n",
    "tier2 = 'hund'\n",
    "\n",
    "# zwei Möglichkeiten damit auch Anführungszeichen\n",
    "# und Apostrohpen in Strings realisiert werden können \n",
    "tier3 = '\"vogel\"'\n",
    "\n",
    "print(tier1)\n",
    "print(tier2)\n",
    "print(tier3)"
   ]
  },
  {
   "cell_type": "code",
   "execution_count": 31,
   "metadata": {},
   "outputs": [
    {
     "name": "stdout",
     "output_type": "stream",
     "text": [
      "Linus Torvalds once said, 'Any program is only as good as it is useful.'\n"
     ]
    }
   ],
   "source": [
    "# ein String der zu lang für eine Zeile ist\n",
    "quote = \"Linus Torvalds once said, \\\n",
    "'Any program is only as good as it is useful.'\"\n",
    "print(quote)"
   ]
  },
  {
   "cell_type": "code",
   "execution_count": 32,
   "metadata": {},
   "outputs": [
    {
     "name": "stdout",
     "output_type": "stream",
     "text": [
      "Dies ist ein String in dem\n",
      "ich komfortabel über mehrere Zeilen schreiben kann, \n",
      "ohne mir über das escape Symbol \"\\\" Gedanken zu\n",
      "machen, wie in dem obigen Beispiel.\n",
      "Wie ihr gleich sehen werdet, ist das Format des\n",
      "Strings wie er hier geschrieben steht in der \n",
      "Ausgabe erhalten.\n",
      "\n"
     ]
    }
   ],
   "source": [
    "# ein String der über mehrere Zeilen geht\n",
    "multiline_string = '''Dies ist ein String in dem\n",
    "ich komfortabel über mehrere Zeilen schreiben kann, \n",
    "ohne mir über das escape Symbol \"\\\\\" Gedanken zu\n",
    "machen, wie in dem obigen Beispiel.\n",
    "Wie ihr gleich sehen werdet, ist das Format des\n",
    "Strings wie er hier geschrieben steht in der \n",
    "Ausgabe erhalten.\n",
    "'''\n",
    "\n",
    "print(multiline_string)"
   ]
  },
  {
   "cell_type": "markdown",
   "metadata": {},
   "source": [
    "##### Kombinieren von Strings"
   ]
  },
  {
   "cell_type": "markdown",
   "metadata": {},
   "source": [
    "Mit dem \"plus\" Symbol können wir zwei Strings zu einem zusammenfassen - wir nennen das **concatenation**:"
   ]
  },
  {
   "cell_type": "code",
   "execution_count": 33,
   "metadata": {},
   "outputs": [
    {
     "name": "stdout",
     "output_type": "stream",
     "text": [
      "janalasser\n"
     ]
    }
   ],
   "source": [
    "# definiere zwei Variablen die jeweils einen\n",
    "# String speichern\n",
    "first_name = 'jana'\n",
    "last_name = 'lasser'\n",
    "\n",
    "# kombiniere die beiden Variablen \n",
    "full_name = first_name + last_name\n",
    "print(full_name)"
   ]
  },
  {
   "cell_type": "code",
   "execution_count": 35,
   "metadata": {},
   "outputs": [
    {
     "name": "stdout",
     "output_type": "stream",
     "text": [
      "jana   lasser\n"
     ]
    }
   ],
   "source": [
    "# verbessertes Beispiel mit Leerzeichen\n",
    "whitespace = ' '\n",
    "full_name = first_name + whitespace * 3 + last_name\n",
    "print(full_name)"
   ]
  },
  {
   "cell_type": "markdown",
   "metadata": {},
   "source": [
    "Es gibt keine Obergrenze für die Anzahl an Strings die auf diese Art zusammengefasst werden können. Wir können mit Hilfe der ```str()``` Funktion auch Zahlen in Strings verwandeln, um sinnvolleren Output auf die Kommandozeile zu erzeigen:"
   ]
  },
  {
   "cell_type": "code",
   "execution_count": 37,
   "metadata": {},
   "outputs": [
    {
     "name": "stdout",
     "output_type": "stream",
     "text": [
      "if you multiply 15 by 3, the result is 45\n"
     ]
    }
   ],
   "source": [
    "a = 15   # definiere Variablen\n",
    "b = 3\n",
    "c = a * b  # führe Rechnung aus\n",
    "\n",
    "# \"verhübsche\" den Output\n",
    "print('if you multiply ' + str(a) + ' by ' + str(b) + \\\n",
    "          ', the result is ' + str(c))"
   ]
  },
  {
   "cell_type": "markdown",
   "metadata": {},
   "source": [
    "##### Whitespaces"
   ]
  },
  {
   "cell_type": "markdown",
   "metadata": {},
   "source": [
    "* \"whitespace\" ist ein Zeichen, das der Computer erkennt aber das unsichtbar für den Leser ist (Leerzeichen, Tabulator, Zeilenumbrüche).\n",
    "* Diese Zeichen werden mit speziellen Zeichenkombinationen realisiert\n",
    "* \"\\t\" für einen Tabulator\n",
    "* \"\\n\" für einen Zeilenumbruch"
   ]
  },
  {
   "cell_type": "code",
   "execution_count": 38,
   "metadata": {},
   "outputs": [
    {
     "name": "stdout",
     "output_type": "stream",
     "text": [
      "Hello world!\n",
      "\tHello world!\n",
      "Hello \tworld!\n"
     ]
    }
   ],
   "source": [
    "# tabs\n",
    "print('Hello world!')\n",
    "print('\\tHello world!')\n",
    "print('Hello \\tworld!')"
   ]
  },
  {
   "cell_type": "code",
   "execution_count": 40,
   "metadata": {},
   "outputs": [
    {
     "name": "stdout",
     "output_type": "stream",
     "text": [
      "\n",
      "Hello world!\n"
     ]
    }
   ],
   "source": [
    "# Zeilenumbruch am Anfang\n",
    "print('\\nHello world!')"
   ]
  },
  {
   "cell_type": "code",
   "execution_count": 41,
   "metadata": {},
   "outputs": [
    {
     "name": "stdout",
     "output_type": "stream",
     "text": [
      "Hello world!\n",
      "\n"
     ]
    }
   ],
   "source": [
    "# Zeilenumbruch am Ende\n",
    "print('Hello world!\\n')"
   ]
  },
  {
   "cell_type": "code",
   "execution_count": 42,
   "metadata": {},
   "outputs": [
    {
     "name": "stdout",
     "output_type": "stream",
     "text": [
      "Hello \n",
      "world!\n"
     ]
    }
   ],
   "source": [
    "# Zeilenumbruch in der Mitte\n",
    "print('Hello \\nworld!')"
   ]
  },
  {
   "cell_type": "markdown",
   "metadata": {},
   "source": [
    "##### Formatieren von Strings"
   ]
  },
  {
   "cell_type": "markdown",
   "metadata": {},
   "source": [
    "Strings zu \"addieren\" ist oft etwas umständlich. Mit der ```format()``` Funktion können wir Strings einfacher formatieren:"
   ]
  },
  {
   "cell_type": "code",
   "execution_count": 44,
   "metadata": {},
   "outputs": [
    {
     "name": "stdout",
     "output_type": "stream",
     "text": [
      "Das Ergebnis von (5 * 4) + 2 ist 22!\n"
     ]
    }
   ],
   "source": [
    "calculation = '(5 * 4) + 2'\n",
    "result = (5 * 4) + 2\n",
    "string_template = 'Das Ergebnis von {} ist {}!'\n",
    "\n",
    "print(string_template.format(calculation, result))"
   ]
  },
  {
   "cell_type": "code",
   "execution_count": 45,
   "metadata": {},
   "outputs": [
    {
     "name": "stdout",
     "output_type": "stream",
     "text": [
      "Das Ergebnis von (5 * 4) + 2 ist 22!\n"
     ]
    }
   ],
   "source": [
    "# oder so:\n",
    "new_string = string_template.format(calculation, result)\n",
    "print(new_string)"
   ]
  },
  {
   "cell_type": "markdown",
   "metadata": {},
   "source": [
    "[top](#top)"
   ]
  },
  {
   "cell_type": "markdown",
   "metadata": {},
   "source": [
    "<a name='kommentare'></a>Kommentare\n",
    "---"
   ]
  },
  {
   "cell_type": "markdown",
   "metadata": {},
   "source": [
    "Kommentare erlauben uns, Text der vom Computer ignoriert wird in unser Programm zu schreiben. Das ist sehr hilfreich, um zu erklären was im Program passiert. Jede Zeile die mit einem Pfund (#) Symbol beginnt, wird vom Computer ignoriert:"
   ]
  },
  {
   "cell_type": "code",
   "execution_count": 46,
   "metadata": {},
   "outputs": [
    {
     "name": "stdout",
     "output_type": "stream",
     "text": [
      "Diese Zeile ist kein Kommentar, sondern ein String!.\n"
     ]
    }
   ],
   "source": [
    "# Diese Zeile ist ein guter Kommentar.\n",
    "# diese\n",
    "# ist es \n",
    "# nicht\n",
    "\n",
    "print(\"Diese Zeile ist kein Kommentar, sondern ein String!.\")"
   ]
  },
  {
   "cell_type": "markdown",
   "metadata": {},
   "source": [
    "**_Was macht einen guten Kommentar aus?_**\n",
    "* Ein Kommentar ist kurz und pointiert aber ein vollständiger Gedanke. Meistens sollten Kommentare als vollständige Sätze geschrieben werden.\n",
    "* Kommentare erklären den Gedankengang beim Programmieren damit der Programmierer den Code zu einem späteren Zeitpunkt besser nachvollziehen kann.\n",
    "* Kommentare erklären auch den verfolgen Ansatz, damit jemand anderes den Code später nachvollziehen kann.\n",
    "* Kommentare erklären besonders komplizierte oder wichtige Teile des Codes im Detail."
   ]
  },
  {
   "cell_type": "markdown",
   "metadata": {},
   "source": [
    "**_ Wann sollte ich einen Kommentar schreiben?_**\n",
    "* Wenn ich über den Code nachdenken muss, bevor ich ihn schreibe\n",
    "* Wenn ich meine Gedankengänge beim Programmieren wahrscheinlich später vergessen werde (also praktisch immer!).\n",
    "* Wenn es mehr als einen Weg gibt, ein Problem im Code zu lösen.\n",
    "* Wenn es unwahrscheinlich ist, dass andere an der Stelle im Code gleich denken würden wie ich."
   ]
  },
  {
   "cell_type": "markdown",
   "metadata": {},
   "source": [
    "[top](#top)"
   ]
  },
  {
   "cell_type": "markdown",
   "metadata": {},
   "source": [
    "<a name=\"jupyter\"></a>Das Jupyter Notebook\n",
    "==="
   ]
  },
  {
   "cell_type": "markdown",
   "metadata": {},
   "source": [
    "Das Dokument, in dem sich der Vortrag und die Beispiele befinden ist ien sog. Jupyter Notebook. Es erlaubt mir, hübsch formatierten Text zusammen mit ausführbarem Code zu schreiben. Außerdem können die Codeschnipsel aus dem Vortrag gleich als Templates für die Übungen herhalten."
   ]
  },
  {
   "cell_type": "markdown",
   "metadata": {},
   "source": [
    "##### Modaler Editor"
   ]
  },
  {
   "cell_type": "markdown",
   "metadata": {},
   "source": [
    "Das Jupyter Notebook ist ein sog. _modaler Editor_. Es kennt zwei Modi: \n",
    "* den **Edit Mode** zum Schreiben _inerhalb_ von Zellen \n",
    "* und den **Command Mode** zum Bearbeiten von Zellblöcken. \n",
    "\n",
    "Der **Edit Mode** ist durch die _grüne_, der **Command Mode** durch die _graue_ Zellumrandung erkennbar:"
   ]
  },
  {
   "cell_type": "markdown",
   "metadata": {},
   "source": [
    "Um die Modi zu wechseln:\n",
    "* **Edit Mode**: drücke \"Enter\" oder klicke _in_ die Zelle\n",
    "* **Command Mode**: drücke \"Esc\" oder klicke _neben_ die Zelle"
   ]
  },
  {
   "cell_type": "markdown",
   "metadata": {},
   "source": [
    "##### Zell-Typen"
   ]
  },
  {
   "cell_type": "markdown",
   "metadata": {},
   "source": [
    "Ein Jupyter Notebook hat _Zellen_ mit verschiedenen Inhalten:\n",
    "* strukturierter **Text** (auch \"Markdown\" genannt)\n",
    "* und **Code** (erkennbar an dem ```In [1]:```) vor der Zelle"
   ]
  },
  {
   "cell_type": "code",
   "execution_count": 47,
   "metadata": {},
   "outputs": [
    {
     "name": "stdout",
     "output_type": "stream",
     "text": [
      "10\n"
     ]
    }
   ],
   "source": [
    "a = 10\n",
    "print(a)"
   ]
  },
  {
   "cell_type": "markdown",
   "metadata": {},
   "source": [
    "Um den Typ des Inhalts einer Zelle zu wechseln:\n",
    "* **Code**: drücke ```y``` oder klicke Cell $\\rightarrow$ Cell Type $\\rightarrow$ Code\n",
    "* **Text**: drücke ```m``` oder klicke Cell $\\rightarrow$ Cell Type $\\rightarrow$ Markdown"
   ]
  },
  {
   "cell_type": "markdown",
   "metadata": {},
   "source": [
    "<a name='kommandos'></a>Ein paar Kommandos\n",
    "---"
   ]
  },
  {
   "cell_type": "markdown",
   "metadata": {},
   "source": [
    "Alle Kommandos können mit der Maus in der Toolbar (oben) angeklickt werden. Trotzdem lohnt es sich 4-5 Tastenkürzel zu kennen:\n",
    "* **Command Mode**:\n",
    "    * ```h``` für eine Listde der Kommandos\n",
    "    * ```a``` und \"b\" für neue Zelle über/unter der ausgewählten Zelle\n",
    "    * ```d-d``` um die ausgewählte Zelle zu löschen\n",
    "    * ```shift-enter``` um die ausgewählte Zelle auszuführen "
   ]
  },
  {
   "cell_type": "markdown",
   "metadata": {},
   "source": [
    "* **Edit Mode**:\n",
    "    * ```tab``` für Textvervollständigung\n",
    "    * ```ctrl-c``` zum Kopieren von Inhalten in einer Zelle\n",
    "    * ```ctrl-v``` zum Einfügen von Inhalten in einer Zelle"
   ]
  },
  {
   "cell_type": "markdown",
   "metadata": {},
   "source": [
    "<a name='dashboard'></a>Das Dashboard\n",
    "---"
   ]
  },
  {
   "cell_type": "markdown",
   "metadata": {},
   "source": [
    "Das \"Dashbboard\" ist das Heimverzeichnis des Jupyter Notebooks. Zum Dashboard gelangt man durch Klick auf das \"Jupyter\" Logo in der linken oberen Ecke. Dort kann man andere Notebooks öffnen und neue erstellen."
   ]
  },
  {
   "cell_type": "markdown",
   "metadata": {},
   "source": [
    "[top](#top)"
   ]
  },
  {
   "cell_type": "markdown",
   "metadata": {},
   "source": [
    "<a name=\"uebung01\"></a>Übung 01: Variablen und Datentypen\n",
    "==="
   ]
  },
  {
   "cell_type": "markdown",
   "metadata": {},
   "source": [
    "Wenn ein Fehler auftritt:\n",
    "1. Fehlermeldung _lesen_ und _verstehen_\n",
    "2. Versuchen, selbst eine Lösung zu finden ($\\rightarrow$ hier findet das Lernen statt!)\n",
    "3. Mich (Google/Stackoverflow) oder Nachbarn fragen  \n",
    "\n",
    "\n",
    "Mit **(Optional)** gekennzeichnete Übungsteile sind für besonders schnelle Menschen :-)."
   ]
  },
  {
   "cell_type": "markdown",
   "metadata": {},
   "source": [
    "1. **Vorbereitung**\n",
    "  1. Navigiere zum Dashboard (am besten Rechtsklick $\\rightarrow$ \"in neuem Tab öffnen\")\n",
    "  2. Erstelle ein neues Notebook für die Übung: \"new\" (rechts oben) $\\rightarrow$ \"Python 3\"\n",
    "  3. Gib dem Notebook einen bezeichnenden Namen (z.B.) \"Uebung01\" indem du oben links in das \"Untitled\" Feld klickst.\n",
    "2. **Zahlen**\n",
    "  1. Schreibe ein Programm, das die Resultate von Rechnungen ausgibt (```print()```). Benutze jede der standard Rechenoperationen (+, - , *, /, \\**) mindestens ein mal.\n",
    "  2. **(Optional)** Realisiere eine Rechnung \"ohne Rest\" (```int()```) und lass dir den Typ der Ergebnisse der Rechnungen mittels ```type()``` anzeigen.\n",
    "  3. Benutze mehrere Rechenoperationen in einer Rechnung, benutze Klammern um die Reihenfolge der Operationen zu verändern.\n",
    "  4. **(Optional)** Recherchiere was es mit \"numerischer Genauigkeit\" auf sich hat und wo sie zu Problemen führen könnte. Programmiere ein kleines Beispiel. \n",
    "3. **Strings**\n",
    "  1. Such dir eine*n bekannte*n Wissenschaftler*in (natürlich aus Göttingen...). Speichere Vorname, Nachname und ein Zitat des/der Wissenschaftlers/in in drei separaten Variablen.\n",
    "  2. Addiere die Strings (Concatenation) um einen Satz mit dem Namen des/der Wissenschaftlers*in und dem Zitat zu erzeugen und auszugeben.\n",
    "  3. Formatiere den Output der Rechenoperationen aus Teil 2 mit der ```format()``` Funktion so, dass er Sinn ergibt und gut lesbar ist.\n",
    "4. **Kommentare**\n",
    "  1. Schreibe ein Programm, das jedes neue Konzept das du bis jetzt gelernt hast verwendet.\n",
    "  2. Kommentiere das Programm ausführlich um zu beschreiben, was es tut.\n",
    "  3. **(Optional)** Für jede neue Aktion die das Programm ausführt, schreibe Output der erklärt, was gerade passiert ist."
   ]
  },
  {
   "cell_type": "markdown",
   "metadata": {},
   "source": [
    "[top](#top)"
   ]
  }
 ],
 "metadata": {
  "kernelspec": {
   "display_name": "Python 3",
   "language": "python",
   "name": "python3"
  },
  "language_info": {
   "codemirror_mode": {
    "name": "ipython",
    "version": 3
   },
   "file_extension": ".py",
   "mimetype": "text/x-python",
   "name": "python",
   "nbconvert_exporter": "python",
   "pygments_lexer": "ipython3",
   "version": "3.5.2"
  }
 },
 "nbformat": 4,
 "nbformat_minor": 1
}
