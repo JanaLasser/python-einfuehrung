{
 "cells": [
  {
   "cell_type": "markdown",
   "metadata": {},
   "source": [
    "<a name=\"top\"></a>Übersicht: mehr Listen\n",
    "==="
   ]
  },
  {
   "cell_type": "markdown",
   "metadata": {},
   "source": [
    "* [Operationen auf Listen](#operationen)\n",
    "  * [Hinzufügen von Elementen](#hinzufügen)\n",
    "  * [Entfernen von Elementen](#entfernen)\n",
    "  * [Leere Listen](#leer)\n",
    "  * [Sortieren](#sortieren)\n",
    "  * [Umkehren](#umkehren)\n",
    "  * [min, max, sum](#functionalitaet)\n",
    "* [List erzeugen](#erzeugen) \n",
    "  * [Die range() Funktion](#range)\n",
    "  * [List comprehensions](#comprehensions)\n",
    "* [Übung 04: Mehr Listen](#uebung04) "
   ]
  },
  {
   "cell_type": "markdown",
   "metadata": {},
   "source": [
    "**Lernziele:** Am Ende dieser Einheit\n",
    "* wisst ihr, wie ihr Elemente zu Listen hinzufügt, entfernt und Listen sortiert\n",
    "* wisst ihr, wie ihr automatisch Listen von Zahlen erstellt.\n",
    "* wisst ihr, wie ihr automatisch komplizierte Listen mit Hilfe von List comprehensions erzeugt."
   ]
  },
  {
   "cell_type": "markdown",
   "metadata": {},
   "source": [
    "<a name=\"operationen\"></a>Operationen auf Listen\n",
    "==="
   ]
  },
  {
   "cell_type": "markdown",
   "metadata": {},
   "source": [
    "##### Elemente modifizieren"
   ]
  },
  {
   "cell_type": "markdown",
   "metadata": {},
   "source": [
    "Wie oben schon gesehen, können wir Elemente in der Liste auch noch nach Erstellen der Liste modifizieren:"
   ]
  },
  {
   "cell_type": "code",
   "execution_count": null,
   "metadata": {
    "collapsed": true
   },
   "outputs": [],
   "source": [
    "# erstelle eine Liste\n",
    "animals = ['cat', 'dog', 'bird', 'horse']\n",
    "print(animals)\n",
    "\n",
    "# weise dem Element an Index 2 einen neuen Wert zu\n",
    "animals[2] = 'penguin'\n",
    "print(animals)"
   ]
  },
  {
   "cell_type": "markdown",
   "metadata": {},
   "source": [
    "<a name=\"hinzufuegen\"></a>Hinzufügen von Elementen\n",
    "---"
   ]
  },
  {
   "cell_type": "markdown",
   "metadata": {},
   "source": [
    "Um Elemente zu einer existierenden Liste hinzuzufügen, gibt uns Python drei verschiedene Möglichkeiten:\n",
    "* ```insert()```: um ein Element an einem bestimmten Index einzufügen (Elemente danach werden nach hinten verschoben)\n",
    "* ```append()```: um ein Element an das Ende der Liste anzuhängen\n",
    "* ```extend()```: um eine existierende Liste um eine andere existierende Liste zu erweitern."
   ]
  },
  {
   "cell_type": "code",
   "execution_count": 2,
   "metadata": {
    "collapsed": true
   },
   "outputs": [],
   "source": [
    "# erzeuge zwei neue Beispiellisten\n",
    "strings = ['a', 'b', 'c']\n",
    "numbers = [1, 2, 3]"
   ]
  },
  {
   "cell_type": "code",
   "execution_count": 3,
   "metadata": {},
   "outputs": [
    {
     "name": "stdout",
     "output_type": "stream",
     "text": [
      "['a', 'b', 'c']\n",
      "['a', 'b', 'z', 'c']\n"
     ]
    }
   ],
   "source": [
    "print(strings)\n",
    "# füge strings ein neues Element am Index 2 hinzu\n",
    "strings.insert(2, 'z')\n",
    "print(strings)"
   ]
  },
  {
   "cell_type": "code",
   "execution_count": 4,
   "metadata": {},
   "outputs": [
    {
     "name": "stdout",
     "output_type": "stream",
     "text": [
      "[1, 2, 3]\n",
      "[1, 2, 3, 10]\n"
     ]
    }
   ],
   "source": [
    "print(numbers)\n",
    "# hänge ein Element an numbers an\n",
    "numbers.append(10)\n",
    "print(numbers)"
   ]
  },
  {
   "cell_type": "code",
   "execution_count": 6,
   "metadata": {},
   "outputs": [
    {
     "name": "stdout",
     "output_type": "stream",
     "text": [
      "['a', 'b', 'z', 'c', 1, 2, 3, 10, 1, 2, 3, 10]\n"
     ]
    }
   ],
   "source": [
    "# erweitere strings um die Liste numbers\n",
    "strings.extend(numbers)\n",
    "print(strings)"
   ]
  },
  {
   "cell_type": "code",
   "execution_count": 7,
   "metadata": {},
   "outputs": [
    {
     "name": "stdout",
     "output_type": "stream",
     "text": [
      "[1, 2, 3, 10, 'a', 'b', 'z', 'c', 1, 2, 3, 10, 1, 2, 3, 10]\n"
     ]
    }
   ],
   "source": [
    "numbers.extend(strings)\n",
    "print(numbers)"
   ]
  },
  {
   "cell_type": "markdown",
   "metadata": {},
   "source": [
    "<a name=\"entfernen\"></a>Entfernen von Elementen\n",
    "---"
   ]
  },
  {
   "cell_type": "markdown",
   "metadata": {},
   "source": [
    "Auch für das Entfernen von Elementen aus einer Liste gibt es drei Möglichkeiten:\n",
    "* ```remove()```: entfernt ein Element mit einem bestimmten Wert\n",
    "* ```del```: entfernt ein Element an einem bestimmten Index\n",
    "* ```pop()```: entfernt das letzte Element in der Liste und gibt es zurück"
   ]
  },
  {
   "cell_type": "code",
   "execution_count": 9,
   "metadata": {
    "scrolled": true
   },
   "outputs": [
    {
     "name": "stdout",
     "output_type": "stream",
     "text": [
      "['stein', 'blume', 'foto', 'PC', 'kuchen', 'stein']\n",
      "['blume', 'foto', 'PC', 'kuchen', 'stein']\n"
     ]
    }
   ],
   "source": [
    "# erstelle eine neue Liste\n",
    "dinge = ['stein', 'blume', 'foto', 'PC', 'kuchen', 'stein']\n",
    "print(dinge)\n",
    "\n",
    "# entferne das Element mit dem Wert 'stein'\n",
    "# aus der Liste\n",
    "dinge.remove('stein')\n",
    "print(dinge)"
   ]
  },
  {
   "cell_type": "code",
   "execution_count": 10,
   "metadata": {},
   "outputs": [
    {
     "name": "stdout",
     "output_type": "stream",
     "text": [
      "['foto', 'PC', 'kuchen', 'stein']\n"
     ]
    }
   ],
   "source": [
    "# entferne das element am index 0 aus der Liste\n",
    "del dinge[0]\n",
    "print(dinge)"
   ]
  },
  {
   "cell_type": "code",
   "execution_count": 11,
   "metadata": {},
   "outputs": [
    {
     "name": "stdout",
     "output_type": "stream",
     "text": [
      "['foto', 'PC', 'kuchen']\n",
      "stein\n"
     ]
    }
   ],
   "source": [
    "# entferne das letzte Element aus der Liste und \n",
    "# \"fange\" es in einer Variablen auf\n",
    "last_element = dinge.pop()\n",
    "\n",
    "# dinge hat jetzt nur noch zwei Elemente\n",
    "print(dinge)\n",
    "# 'kuchen' ist in der Variablen 'last_element'\n",
    "# gespeichert\n",
    "print(last_element)"
   ]
  },
  {
   "cell_type": "markdown",
   "metadata": {},
   "source": [
    "[top](#top)"
   ]
  },
  {
   "cell_type": "markdown",
   "metadata": {},
   "source": [
    "<a name=\"leer\"></a>Leere Listen\n",
    "---"
   ]
  },
  {
   "cell_type": "markdown",
   "metadata": {},
   "source": [
    "Machmal kann es sinnvoll sein, eine leere Liste zu erstellen, die dann später aufgefüllt wird - z.B. mit Hilfe eines loops:"
   ]
  },
  {
   "cell_type": "code",
   "execution_count": 13,
   "metadata": {},
   "outputs": [
    {
     "name": "stdout",
     "output_type": "stream",
     "text": [
      "['aa', 'bb', 'cc', 'dd']\n"
     ]
    }
   ],
   "source": [
    "# hier kreieren wir eine gefüllte Liste\n",
    "letters = ['a', 'b', 'c', 'd']\n",
    "\n",
    "# und hier eine leere Liste\n",
    "alphabet = []\n",
    "\n",
    "# wir füllen alphabet mittels eines loops\n",
    "for letter in letters:\n",
    "    alphabet.append(letter + letter)\n",
    "    \n",
    "print(alphabet)"
   ]
  },
  {
   "cell_type": "code",
   "execution_count": 14,
   "metadata": {},
   "outputs": [
    {
     "name": "stdout",
     "output_type": "stream",
     "text": [
      "0\n"
     ]
    }
   ],
   "source": [
    "leere_liste = []\n",
    "print(len(leere_liste))"
   ]
  },
  {
   "cell_type": "markdown",
   "metadata": {},
   "source": [
    "[top](#top)"
   ]
  },
  {
   "cell_type": "markdown",
   "metadata": {},
   "source": [
    "<a name=\"sortieren\"></a>Sortieren\n",
    "---"
   ]
  },
  {
   "cell_type": "markdown",
   "metadata": {},
   "source": [
    "Wir können Listen mit Hilfe von ```sort()``` automatisch anhand ihres Inhalts sortieren. Natürlich funktioniert das nur, wenn für den Inhalt Relationen wie _größer_, _kleiner_ und _gleich_ sinnvoll definiert sind. Standardmäßig werden Strings alphabetisch und Zahlen aufsteigend sortiert.  "
   ]
  },
  {
   "cell_type": "code",
   "execution_count": 15,
   "metadata": {},
   "outputs": [
    {
     "name": "stdout",
     "output_type": "stream",
     "text": [
      "original: ['b', 'a', 'z', 'c', 'y']\n",
      "alphabetisch: ['a', 'b', 'c', 'y', 'z']\n"
     ]
    }
   ],
   "source": [
    "# erstelle eine ungeordnete Liste\n",
    "letters = ['b','a','z','c','y']\n",
    "print('original: {}'.format(letters))\n",
    "\n",
    "#sortiere die Liste\n",
    "letters.sort()\n",
    "print('alphabetisch: {}'.format(letters))"
   ]
  },
  {
   "cell_type": "markdown",
   "metadata": {},
   "source": [
    "**WICHTIG:** Die Reihenfolge der Elemente in der Liste wird _permanent_ verändert, die Information über die originale Reihenfolge geht verloren!"
   ]
  },
  {
   "cell_type": "markdown",
   "metadata": {},
   "source": [
    "[top](#top)"
   ]
  },
  {
   "cell_type": "markdown",
   "metadata": {},
   "source": [
    "<a name=\"umkehren\"></a>Umkehren\n",
    "---"
   ]
  },
  {
   "cell_type": "markdown",
   "metadata": {},
   "source": [
    "Das selbe Prinzip wie beim Sortieren funktioniert beim Umkehren der Reihenfolge einer Liste mittels ```reverse()```:"
   ]
  },
  {
   "cell_type": "code",
   "execution_count": 16,
   "metadata": {},
   "outputs": [
    {
     "name": "stdout",
     "output_type": "stream",
     "text": [
      "original: [10, 2, 5, 3]\n",
      "aufsteigend: [2, 3, 5, 10]\n",
      "absteigend: [10, 5, 3, 2]\n"
     ]
    }
   ],
   "source": [
    "# erstelle eine Liste\n",
    "numbers = [10, 2, 5, 3]\n",
    "print('original: {}'.format(numbers))\n",
    "\n",
    "# sortiere die Liste aufsteigend\n",
    "numbers.sort()\n",
    "print('aufsteigend: {}'.format(numbers))\n",
    "\n",
    "# drehe die Reihenfolge um\n",
    "numbers.reverse()\n",
    "print('absteigend: {}'.format(numbers))"
   ]
  },
  {
   "cell_type": "markdown",
   "metadata": {},
   "source": [
    "[top](#top)"
   ]
  },
  {
   "cell_type": "markdown",
   "metadata": {},
   "source": [
    "<a name=\"funktionalitaet\"></a>min, max, sum\n",
    "---"
   ]
  },
  {
   "cell_type": "markdown",
   "metadata": {},
   "source": [
    "Für Listen die nur Zahlen enthalten, gibt es noch ein paar praktische Helferlein:\n",
    "* ```min()```: gibt das kleines Element einer Liste zurück\n",
    "* ```max()```: gibt das größte Element einer Liste zurück\n",
    "* ```sum()```: gibt die Summe aller Elemente einer Liste zurück"
   ]
  },
  {
   "cell_type": "code",
   "execution_count": 17,
   "metadata": {},
   "outputs": [
    {
     "name": "stdout",
     "output_type": "stream",
     "text": [
      "Minimum: 1, Maximum: 14, Summe: 51\n"
     ]
    }
   ],
   "source": [
    "# erstelle eine neue Liste\n",
    "numbers = [5, 1, 3, 10, 8, 14, 10]\n",
    "\n",
    "# finde das minimum\n",
    "minimum = min(numbers)\n",
    "\n",
    "# finde das maximum\n",
    "maximum = max(numbers)\n",
    "\n",
    "# berechne die Summe\n",
    "summe = sum(numbers)\n",
    "\n",
    "print('Minimum: {}, Maximum: {}, Summe: {}'\\\n",
    "     .format(minimum, maximum, summe))"
   ]
  },
  {
   "cell_type": "markdown",
   "metadata": {},
   "source": [
    "[top](#top)"
   ]
  },
  {
   "cell_type": "markdown",
   "metadata": {},
   "source": [
    "<a name=\"comprehensions\"></a>Listen erzeugen\n",
    "==="
   ]
  },
  {
   "cell_type": "markdown",
   "metadata": {},
   "source": [
    "<a name=\"range\"></a>Die range() Funktion\n",
    "---"
   ]
  },
  {
   "cell_type": "markdown",
   "metadata": {},
   "source": [
    "Kompliziertere oder längere Listen immer von Hand zu tippen ist nervig und frisst Zeit. Für Zahlen gibt es dafür die handliche ```range()``` Funktion. Wie bei den slices brauchen wir hier den Start einer Sequenz von Zahlen, ihr Ende und die Schrittweite:"
   ]
  },
  {
   "cell_type": "code",
   "execution_count": 18,
   "metadata": {},
   "outputs": [
    {
     "name": "stdout",
     "output_type": "stream",
     "text": [
      "0\n",
      "2\n",
      "4\n",
      "6\n",
      "8\n",
      "10\n",
      "12\n",
      "14\n"
     ]
    }
   ],
   "source": [
    "# gib alle geraden Zahlen zwischen 0 und 15 aus\n",
    "for number in range(0, 15, 2):\n",
    "    print(number)"
   ]
  },
  {
   "cell_type": "markdown",
   "metadata": {},
   "source": [
    "Das Ganze könnten wir auch in eine Liste \"umleiten\":"
   ]
  },
  {
   "cell_type": "code",
   "execution_count": 19,
   "metadata": {},
   "outputs": [
    {
     "name": "stdout",
     "output_type": "stream",
     "text": [
      "[0, 2, 4, 6, 8, 10, 12, 14]\n"
     ]
    }
   ],
   "source": [
    "# erstelle eine leere Liste\n",
    "even_numbers = []\n",
    "\n",
    "# für jede Iteration des loops \n",
    "# hänge ein Element an die Liste an\n",
    "for number in range(0, 15, 2):\n",
    "    even_numbers.append(number)\n",
    "\n",
    "print(even_numbers)"
   ]
  },
  {
   "cell_type": "markdown",
   "metadata": {},
   "source": [
    "Das ganze geht aber auch einfacher, indem wir die Funktion ```list()``` anwenden:"
   ]
  },
  {
   "cell_type": "code",
   "execution_count": 20,
   "metadata": {},
   "outputs": [
    {
     "name": "stdout",
     "output_type": "stream",
     "text": [
      "[0, 2, 4, 6, 8, 10, 12, 14]\n"
     ]
    }
   ],
   "source": [
    "# list() erzeugt eine Liste aus einer\n",
    "# anderen Interablen\n",
    "even_numbers = list(range(0, 15, 2))\n",
    "print(even_numbers)"
   ]
  },
  {
   "cell_type": "markdown",
   "metadata": {},
   "source": [
    "[top](#top)"
   ]
  },
  {
   "cell_type": "markdown",
   "metadata": {},
   "source": [
    "<a name=\"comprehensions\"></a>List comprehensions\n",
    "---"
   ]
  },
  {
   "cell_type": "markdown",
   "metadata": {},
   "source": [
    "Wenn wir noch kompliziertere Listen erstellen wollen, die wir nicht mit Start, Ende und Schrittweite beschreiben können, dann bietet uns Python sogenannte \"list comprehensions\" (Listen-Ausdrücke):"
   ]
  },
  {
   "cell_type": "code",
   "execution_count": 21,
   "metadata": {},
   "outputs": [
    {
     "name": "stdout",
     "output_type": "stream",
     "text": [
      "[0, 4, 16, 36, 64, 100, 144, 196]\n"
     ]
    }
   ],
   "source": [
    "squares = [number ** 2 for number in range(0, 15, 2)]\n",
    "print(squares)"
   ]
  },
  {
   "cell_type": "markdown",
   "metadata": {},
   "source": [
    "Was ist da gerade passiert?\n",
    "* der Teil nach dem ```for``` startet einen loop der 8 mal läuft und  in jedem Durchlauf die nächste gerade Zahl zurückgibt\n",
    "* der Teil vor dem ```for``` führt eine Operation auf der gerade aktuellen geraden Zahl aus (in unserem Fall wird die Zahl quadriert)\n",
    "* die eckigen Klammern um den ganzen Ausdruck herum \"kanalisieren\" das Ergebnis in eine Liste\n",
    "* die Liste wird dann per \"=\" einer neuen Variable \"squares\" zugewiesen"
   ]
  },
  {
   "cell_type": "markdown",
   "metadata": {},
   "source": [
    "List comprehensions sind eine extrem praktische und sehr Python-typische Sache. Das Konzept ist ein bisschen schwieriger zu verstehen aber sehr wichtig, deswegen noch ein paar mehr Beispiele:"
   ]
  },
  {
   "cell_type": "code",
   "execution_count": 22,
   "metadata": {},
   "outputs": [
    {
     "name": "stdout",
     "output_type": "stream",
     "text": [
      "[0, 1, 2, 3, 4, 5, 6, 7, 8, 9]\n",
      "[0.0, 0.5, 1.0, 1.5, 2.0, 2.5, 3.0, 3.5, 4.0, 4.5]\n"
     ]
    }
   ],
   "source": [
    "# erstelle eine neue Liste der \n",
    "# Zahlen von 0 bis 9\n",
    "c\n",
    "print(numbers)\n",
    "\n",
    "# teile jede Zahl durch 2\n",
    "halves = [number / 2 for number in numbers]\n",
    "print(halves)"
   ]
  },
  {
   "cell_type": "code",
   "execution_count": 25,
   "metadata": {},
   "outputs": [
    {
     "name": "stdout",
     "output_type": "stream",
     "text": [
      "[2, 3, 4, 5, 6, 7, 8, 9, 10, 11]\n"
     ]
    }
   ],
   "source": [
    "# addiere zwei zu jedem Element\n",
    "numbers = list(range(10))\n",
    "plus_two = [number + 2 for number in numbers]\n",
    "print(plus_two)"
   ]
  },
  {
   "cell_type": "code",
   "execution_count": 26,
   "metadata": {},
   "outputs": [
    {
     "name": "stdout",
     "output_type": "stream",
     "text": [
      "['Jana die Großartige', 'Katrin die Großartige']\n"
     ]
    }
   ],
   "source": [
    "# Spaß mit Strings\n",
    "names = ['Jana', 'Katrin']\n",
    "narcicists = [name + ' die Großartige' for name in names]\n",
    "print(narcicists)"
   ]
  },
  {
   "cell_type": "markdown",
   "metadata": {},
   "source": [
    "[top](#top)"
   ]
  },
  {
   "cell_type": "markdown",
   "metadata": {},
   "source": [
    "<a name=\"uebung04\"></a>Übung 04: Mehr Listen\n",
    "==="
   ]
  },
  {
   "cell_type": "markdown",
   "metadata": {},
   "source": [
    "2. **Operationen auf Listen**\n",
    "  1. Erstelle eine Liste mit Vornamen. Fange mit der Liste [dein_eigener_Name] an und fülle die Liste mit den Namen von mindestens 5 weiteren Kursteilnehmerinnen indem du ```append()```, ```insert()``` und ```extend()``` benutzt.\n",
    "  2. Erstelle eine zweite, leere Liste. Iteriere mittels ```for``` und ```enumerate()``` über die Liste mit Namen. Multipliziere jeden Namen mit seinem Index in der Liste. Speichere das Ergebnis in der leeren Liste.\n",
    "  3. **(Optional)** Gib die Länge der Liste und die Gesamtzahl von Buchstaben von allen Strings in der Liste gemeinsam aus.\n",
    "  HINWEIS: Strings sind selbst eine Sammlung von Buchstaben, ihre Länge kann mittels ```len()``` bestimmt werden!\n",
    "  4. **(Optional)** Erstelle eine liste der ersten 50 geraden Zahlen  mit der ```range()``` Funktion. Berechne die Summe aller Zahlen einmal mit einem ```for``` loop und einmal mit der ```sum()``` Funktion.\n",
    "3. **Listen erzeugen**\n",
    "  1. Erstelle eine Liste der ersten zehn Zahlen hoch 3 indem du eine list-comprehension benutzt.\n",
    "  2. **(Optional)** Erstelle eine Liste mit den ersten 100 Elementen der Fibonacci Folge. Was für Probleme ergeben sich, wenn du versuchts, eine List-comprehension dafür zu benutzen?"
   ]
  },
  {
   "cell_type": "markdown",
   "metadata": {},
   "source": [
    "[top](#top)"
   ]
  }
 ],
 "metadata": {
  "kernelspec": {
   "display_name": "Python 3",
   "language": "python",
   "name": "python3"
  },
  "language_info": {
   "codemirror_mode": {
    "name": "ipython",
    "version": 3
   },
   "file_extension": ".py",
   "mimetype": "text/x-python",
   "name": "python",
   "nbconvert_exporter": "python",
   "pygments_lexer": "ipython3",
   "version": "3.5.2"
  }
 },
 "nbformat": 4,
 "nbformat_minor": 1
}
