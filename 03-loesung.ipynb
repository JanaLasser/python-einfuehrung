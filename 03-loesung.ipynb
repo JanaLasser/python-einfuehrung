{
 "cells": [
  {
   "cell_type": "markdown",
   "metadata": {},
   "source": [
    "<a name='loesung03'></a>Lösung zur Übung 03\n",
    "==="
   ]
  },
  {
   "cell_type": "code",
   "execution_count": 1,
   "metadata": {},
   "outputs": [
    {
     "name": "stdout",
     "output_type": "stream",
     "text": [
      "durch 3 teilbar\n"
     ]
    }
   ],
   "source": [
    "# 1.a\n",
    "zahl = 3\n",
    "if zahl % 3 == 0:\n",
    "    print('durch 3 teilbar')"
   ]
  },
  {
   "cell_type": "code",
   "execution_count": 4,
   "metadata": {},
   "outputs": [
    {
     "name": "stdout",
     "output_type": "stream",
     "text": [
      "e in \"tes\" und \"tes\" < 5\n"
     ]
    }
   ],
   "source": [
    "# 1.b\n",
    "word = 'tes'\n",
    "if 'e' in word and len(word) < 5:\n",
    "    print('e in \"{}\" und \"{}\" < 5'.format(word, word))"
   ]
  },
  {
   "cell_type": "code",
   "execution_count": 5,
   "metadata": {},
   "outputs": [
    {
     "name": "stdout",
     "output_type": "stream",
     "text": [
      "null gefunden!\n",
      "1 ist eine Primzahl!\n",
      "2 ist eine gerade Zahl!\n",
      "2 ist eine Primzahl!\n",
      "3 ist eine Primzahl!\n",
      "4 ist eine gerade Zahl!\n",
      "5 ist eine Primzahl!\n",
      "6 ist eine gerade Zahl!\n",
      "7 ist eine Primzahl!\n",
      "8 ist eine gerade Zahl!\n",
      "10 ist eine gerade Zahl!\n",
      "11 ist eine Primzahl!\n",
      "12 ist eine gerade Zahl!\n",
      "13 ist eine Primzahl!\n",
      "14 ist eine gerade Zahl!\n",
      "16 ist eine gerade Zahl!\n",
      "17 ist eine Primzahl!\n",
      "18 ist eine gerade Zahl!\n",
      "19 ist eine Primzahl!\n",
      "20 ist eine gerade Zahl!\n",
      "22 ist eine gerade Zahl!\n",
      "23 ist eine Primzahl!\n",
      "24 ist eine gerade Zahl!\n",
      "26 ist eine gerade Zahl!\n",
      "28 ist eine gerade Zahl!\n",
      "29 ist eine Primzahl!\n",
      "30 ist eine gerade Zahl!\n",
      "31 ist eine Primzahl!\n",
      "32 ist eine gerade Zahl!\n",
      "34 ist eine gerade Zahl!\n",
      "36 ist eine gerade Zahl!\n",
      "37 ist eine Primzahl!\n",
      "38 ist eine gerade Zahl!\n",
      "40 ist eine gerade Zahl!\n",
      "41 ist eine Primzahl!\n",
      "42 ist eine gerade Zahl!\n",
      "43 ist eine Primzahl!\n",
      "44 ist eine gerade Zahl!\n",
      "46 ist eine gerade Zahl!\n",
      "47 ist eine Primzahl!\n",
      "48 ist eine gerade Zahl!\n",
      "50 ist eine gerade Zahl!\n",
      "52 ist eine gerade Zahl!\n",
      "53 ist eine Primzahl!\n",
      "54 ist eine gerade Zahl!\n",
      "56 ist eine gerade Zahl!\n",
      "58 ist eine gerade Zahl!\n",
      "59 ist eine Primzahl!\n",
      "60 ist eine gerade Zahl!\n",
      "61 ist eine Primzahl!\n",
      "62 ist eine gerade Zahl!\n",
      "64 ist eine gerade Zahl!\n",
      "66 ist eine gerade Zahl!\n",
      "67 ist eine Primzahl!\n",
      "68 ist eine gerade Zahl!\n",
      "70 ist eine gerade Zahl!\n",
      "71 ist eine Primzahl!\n",
      "72 ist eine gerade Zahl!\n",
      "73 ist eine Primzahl!\n",
      "74 ist eine gerade Zahl!\n",
      "76 ist eine gerade Zahl!\n",
      "78 ist eine gerade Zahl!\n",
      "79 ist eine Primzahl!\n",
      "80 ist eine gerade Zahl!\n",
      "82 ist eine gerade Zahl!\n",
      "83 ist eine Primzahl!\n",
      "84 ist eine gerade Zahl!\n",
      "86 ist eine gerade Zahl!\n",
      "88 ist eine gerade Zahl!\n",
      "89 ist eine Primzahl!\n",
      "90 ist eine gerade Zahl!\n",
      "92 ist eine gerade Zahl!\n",
      "94 ist eine gerade Zahl!\n",
      "96 ist eine gerade Zahl!\n",
      "97 ist eine Primzahl!\n",
      "98 ist eine gerade Zahl!\n"
     ]
    }
   ],
   "source": [
    "# 2.1\n",
    "numbers = [0,1,2,3,4,5,6,7,8,9,10,11,12,13,14,15,16,17,18,19,20]\n",
    "numbers = list(range(0,100))\n",
    "\n",
    "# iteriere über alle Zahlen in der Liste\n",
    "for number in numbers:\n",
    "    \n",
    "    # fall für die null\n",
    "    if number == 0:\n",
    "        print('null gefunden!')\n",
    "        \n",
    "    # fall für gerade zahlen\n",
    "    elif number % 2 == 0:\n",
    "        print('{} ist eine gerade Zahl!'.format(number))\n",
    "        # extrafall für die Zwei (gerade UND prim!)\n",
    "        if number == 2:\n",
    "            print('{} ist eine Primzahl!'.format(number))\n",
    "    \n",
    "    # fall für die primzahlen\n",
    "    else:\n",
    "        # wir nehmen erstmal an, die Zahl sei prim und \n",
    "        # überzeugen uns dann vom Gegenteil\n",
    "        prime = True\n",
    "        \n",
    "        # iteriere über alle Zahlen, die wir bis jetzt\n",
    "        # schon überprüft haben und teste, ob sie Teiler\n",
    "        # der aktuellen Zahl sind\n",
    "        for factor in numbers[2:number]: \n",
    "            if number % factor == 0:\n",
    "                # wenn ja, setze prime auf False\n",
    "                prime = False\n",
    "        \n",
    "        # Wenn kein Teiler gefunden wurde, dann ist prime \n",
    "        # immer noch True und die aktuelle Zahl eine Primzahl\n",
    "        if prime:\n",
    "            print('{} ist eine Primzahl!'.format(number))"
   ]
  },
  {
   "cell_type": "code",
   "execution_count": null,
   "metadata": {
    "collapsed": true
   },
   "outputs": [],
   "source": []
  }
 ],
 "metadata": {
  "kernelspec": {
   "display_name": "Python 3",
   "language": "python",
   "name": "python3"
  },
  "language_info": {
   "codemirror_mode": {
    "name": "ipython",
    "version": 3
   },
   "file_extension": ".py",
   "mimetype": "text/x-python",
   "name": "python",
   "nbconvert_exporter": "python",
   "pygments_lexer": "ipython3",
   "version": "3.5.2"
  }
 },
 "nbformat": 4,
 "nbformat_minor": 2
}
