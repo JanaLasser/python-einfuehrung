{
 "cells": [
  {
   "cell_type": "markdown",
   "metadata": {},
   "source": [
    "<a name=\"top\"></a>Übersicht: Matrizen\n",
    "==="
   ]
  },
  {
   "cell_type": "markdown",
   "metadata": {},
   "source": [
    "* [Matrizen](#matrizen)\n",
    "  * [Mehrdimensionale Listen](#listen)\n",
    "  * [NumPy Arrays](#arrays)\n",
    "  * [Arrays erstellen](#erstellen)\n",
    "  * [Mathe mit Arrays](#mathe)\n",
    "  * [Filter](#filter)\n",
    "* [Übung 07: Matrizen](#uebung07)"
   ]
  },
  {
   "cell_type": "markdown",
   "metadata": {},
   "source": [
    "**Lernziele:** Am Ende dieser Einheit\n",
    "* wisst ihr, was eine third party Bibliothek ist und wie ihr sie verwenden könnt\n",
    "* könnt ihr mehrdimensionalen Daten in Arrays speichern\n",
    "* könnt einfache Mathe und Filteroperationen auf Arrays ausführen\n",
    "* könnt Arrays in Dateien speichern und laden"
   ]
  },
  {
   "cell_type": "markdown",
   "metadata": {},
   "source": [
    "<a name=\"matrizen\"></a>Matrizen\n",
    "==="
   ]
  },
  {
   "cell_type": "markdown",
   "metadata": {},
   "source": [
    "Bis jetzt hatten wir es immer nur mit eindimensionalen Datenkontainern zu tun:"
   ]
  },
  {
   "cell_type": "code",
   "execution_count": 46,
   "metadata": {
    "collapsed": true
   },
   "outputs": [],
   "source": [
    "liste = [1, 2, 3, 4, 5]"
   ]
  },
  {
   "cell_type": "markdown",
   "metadata": {},
   "source": [
    "Was tun, wenn wir eine Matrix darstellen wollen?\n",
    "\\begin{equation*}\n",
    "A = \\begin{pmatrix} 1 & 2  & 3 \\\\ 4 & 5 & 6 \\\\ 7 & 8 & 9 \\end{pmatrix}\n",
    "\\end{equation*}  "
   ]
  },
  {
   "cell_type": "markdown",
   "metadata": {},
   "source": [
    "<a name=\"listen\"></a>Mehrdimensionale Listen\n",
    "---"
   ]
  },
  {
   "cell_type": "markdown",
   "metadata": {},
   "source": [
    "Im Prinzip könnten wir das mit in Listen verschachtelten Listen realisieren:"
   ]
  },
  {
   "cell_type": "code",
   "execution_count": 48,
   "metadata": {},
   "outputs": [
    {
     "name": "stdout",
     "output_type": "stream",
     "text": [
      "[[1, 2, 3], [4, 5, 6], [7, 8, 9]]\n"
     ]
    }
   ],
   "source": [
    "A = [[1, 2, 3], [4, 5, 6], [7, 8, 9]]\n",
    "print(A)"
   ]
  },
  {
   "cell_type": "markdown",
   "metadata": {},
   "source": [
    "Auf einzelne Elemente der Liste zugreifen geht noch relativ eifach"
   ]
  },
  {
   "cell_type": "code",
   "execution_count": 50,
   "metadata": {},
   "outputs": [
    {
     "name": "stdout",
     "output_type": "stream",
     "text": [
      "5\n"
     ]
    }
   ],
   "source": [
    "print(A[1][1])"
   ]
  },
  {
   "cell_type": "markdown",
   "metadata": {},
   "source": [
    "Aber spätestens wenn wir eine ähnliche Funktionalität wie slicing haben wollten, wird es kompliziert. Zur Erinnerung: bei eindimensionalen Listen funktioniert das slicing so:"
   ]
  },
  {
   "cell_type": "code",
   "execution_count": 51,
   "metadata": {},
   "outputs": [
    {
     "name": "stdout",
     "output_type": "stream",
     "text": [
      "[3, 4]\n"
     ]
    }
   ],
   "source": [
    "a = [1, 2, 3, 4, 5]\n",
    "print(a[2:4])"
   ]
  },
  {
   "cell_type": "markdown",
   "metadata": {},
   "source": [
    "[top](#top)"
   ]
  },
  {
   "cell_type": "markdown",
   "metadata": {},
   "source": [
    "<a name=\"arrays\"></a>NumPy Arrays\n",
    "---"
   ]
  },
  {
   "cell_type": "markdown",
   "metadata": {},
   "source": [
    "[eine umfangreichere Einführung in NumPy findet ihr auf https://docs.scipy.org/doc/numpy-dev/user/quickstart.html]"
   ]
  },
  {
   "cell_type": "markdown",
   "metadata": {},
   "source": [
    "Die Lösung bietet ein sog. _third party_ Bibliothek. Im Gegensatz zur Python Standardbibliothek werden third party Bibliotheken nicht mit jeder Python installation mit installiert sondern man muss sie zusätzlich von Hand dazu installieren.  \n",
    "\n",
    "Praktischerweise bringen viele wissenschaftliche Python-Distributionen (wie z.B. die von Anaconda) schon sehr viele von den wichtigen third party Bibliotheken mit. Auch unsere hier benutzte Programmierumgebung kennt sie schon.  \n",
    "\n",
    "Die Bibliothek, die wir für mehrdimensionale Listen, sog. _arrays_ brauchen, inst ```NumPy``` (für numeric Python). Ganz gleich wie Module aus der Standardbibliothek, können wir NumPy einfach importieren:"
   ]
  },
  {
   "cell_type": "code",
   "execution_count": 56,
   "metadata": {},
   "outputs": [],
   "source": [
    "# das keyword 'as' gibt numpy beim Import ein\n",
    "# anderes Kürzel um auf die Funktionalität zuzugreifen.\n",
    "# Das tun wir, um weniger Tippen zu müssen.\n",
    "import numpy as np"
   ]
  },
  {
   "cell_type": "code",
   "execution_count": 75,
   "metadata": {},
   "outputs": [
    {
     "name": "stdout",
     "output_type": "stream",
     "text": [
      "Liste von Listen:\n",
      " [[1, 2, 3], [4, 5, 6], [7, 8, 9]]\n",
      "\n",
      "NumPy nD-Array:\n",
      " [[1 2 3]\n",
      " [4 5 6]\n",
      " [7 8 9]]\n"
     ]
    }
   ],
   "source": [
    "# konvertiere die Liste von Listen A mit der \n",
    "# asarray() Funktion in ein NumPy Array\n",
    "B = np.asarray(A)\n",
    "\n",
    "# zum Vergleich geben wir A und B noch einmal aus\n",
    "print('Liste von Listen:\\n {}\\n'.format(A))\n",
    "print('NumPy nD-Array:\\n {}'.format(B))"
   ]
  },
  {
   "cell_type": "markdown",
   "metadata": {},
   "source": [
    "Auf Elemente in mehrdimensionalen Arrays greifen wir mit Hilfe von mehreren Indices zu (ein Index pro Dimension des Arrays um das Element zweifelsfrei zu lokalisieren):"
   ]
  },
  {
   "cell_type": "code",
   "execution_count": 74,
   "metadata": {},
   "outputs": [
    {
     "name": "stdout",
     "output_type": "stream",
     "text": [
      "5\n"
     ]
    }
   ],
   "source": [
    "print(B[1,1])"
   ]
  },
  {
   "cell_type": "markdown",
   "metadata": {},
   "source": [
    "Macht erstmal nicht viel her, aber schon die eingebaute slicing Funktionalität ist wirklich praktisch, denn wir können jetzt slices über mehrere Dimensionen definieren:"
   ]
  },
  {
   "cell_type": "code",
   "execution_count": 76,
   "metadata": {},
   "outputs": [
    {
     "name": "stdout",
     "output_type": "stream",
     "text": [
      "[[1 2]\n",
      " [4 5]]\n"
     ]
    }
   ],
   "source": [
    "print(B[0:2, 0:2])  # [reihe, spalte]"
   ]
  },
  {
   "cell_type": "code",
   "execution_count": 78,
   "metadata": {},
   "outputs": [
    {
     "name": "stdout",
     "output_type": "stream",
     "text": [
      "[[1 2]\n",
      " [4 5]\n",
      " [7 8]]\n"
     ]
    }
   ],
   "source": [
    "print(B[0:, 0:2])  # [reihe, spalte]"
   ]
  },
  {
   "cell_type": "code",
   "execution_count": 80,
   "metadata": {},
   "outputs": [
    {
     "name": "stdout",
     "output_type": "stream",
     "text": [
      "[[1 2 3]\n",
      " [4 5 6]]\n"
     ]
    }
   ],
   "source": [
    "print(B[0:2, 0:])  # [reihe, spalte]"
   ]
  },
  {
   "cell_type": "markdown",
   "metadata": {},
   "source": [
    "**WICHTIG:** Bei der Reihenfolge der Indices gilt der Merksatz:  \n",
    "_Zeile zuerst, Spalte später!_"
   ]
  },
  {
   "cell_type": "markdown",
   "metadata": {},
   "source": [
    "[top](#top)"
   ]
  },
  {
   "cell_type": "markdown",
   "metadata": {},
   "source": [
    "<a name=\"erstellen\"></a>Arrays erstellen\n",
    "---"
   ]
  },
  {
   "cell_type": "markdown",
   "metadata": {},
   "source": [
    "Um Arrays zu erstellen gibt es neben ```asarray()``` zum konvertieren anderer Kontainer in Arrays noch viele andere Funktionen. Drei hilfreiche davon sind:"
   ]
  },
  {
   "cell_type": "markdown",
   "metadata": {},
   "source": [
    "* ```arange()```: gleich wie ```range()```, nur dass direkt ein Array erstellt wird.\n",
    "* ```reshape()```: verändert die Form eines Arrays.\n",
    "* ```linspace()```: ähnlich zu ```arange()``` aber erzeugt keine Ganzzahlen sondern eine lineare Interpolation zwischen Start und Ende."
   ]
  },
  {
   "cell_type": "code",
   "execution_count": 84,
   "metadata": {},
   "outputs": [
    {
     "name": "stdout",
     "output_type": "stream",
     "text": [
      "[ 0  1  2  3  4  5  6  7  8  9 10 11 12 13 14 15]\n",
      "<class 'numpy.ndarray'>\n"
     ]
    }
   ],
   "source": [
    "# erstelle ein eindimensionales Array mit 16 Elementen\n",
    "A = np.arange(16)\n",
    "print(A)\n",
    "print(type(A))"
   ]
  },
  {
   "cell_type": "code",
   "execution_count": 87,
   "metadata": {},
   "outputs": [
    {
     "name": "stdout",
     "output_type": "stream",
     "text": [
      "[[ 0  1  2  3]\n",
      " [ 4  5  6  7]\n",
      " [ 8  9 10 11]\n",
      " [12 13 14 15]]\n"
     ]
    }
   ],
   "source": [
    "# forme A in ein zweidimensionales 4x4 Array um\n",
    "A = A.reshape((4,4))\n",
    "print(A)\n",
    "\n",
    "# merke: die Gesamtzahl der Elemente muss dabei\n",
    "# erhalten bleiben!"
   ]
  },
  {
   "cell_type": "code",
   "execution_count": 105,
   "metadata": {},
   "outputs": [
    {
     "name": "stdout",
     "output_type": "stream",
     "text": [
      "[  0.           0.20408163   0.40816327   0.6122449    0.81632653\n",
      "   1.02040816   1.2244898    1.42857143   1.63265306   1.83673469\n",
      "   2.04081633   2.24489796   2.44897959   2.65306122   2.85714286\n",
      "   3.06122449   3.26530612   3.46938776   3.67346939   3.87755102\n",
      "   4.08163265   4.28571429   4.48979592   4.69387755   4.89795918\n",
      "   5.10204082   5.30612245   5.51020408   5.71428571   5.91836735\n",
      "   6.12244898   6.32653061   6.53061224   6.73469388   6.93877551\n",
      "   7.14285714   7.34693878   7.55102041   7.75510204   7.95918367\n",
      "   8.16326531   8.36734694   8.57142857   8.7755102    8.97959184\n",
      "   9.18367347   9.3877551    9.59183673   9.79591837  10.        ]\n"
     ]
    }
   ],
   "source": [
    "start = 0\n",
    "stop = 10\n",
    "anzahl = 50\n",
    "\n",
    "# linspace erzeugt \"anzahl\" Elemente die gleichmäßig\n",
    "# zwischen start und stop verteilt werden\n",
    "B = np.linspace(start, stop, anzahl)  # (start, stop, anzahl)\n",
    "\n",
    "print(B)"
   ]
  },
  {
   "cell_type": "markdown",
   "metadata": {},
   "source": [
    "Zusätzlich dazu können wir Arrays auch aus Dateien laden bzw. sie als Dateien speichern mit\n",
    "* ```np.loadtxt()```\n",
    "* ```np.savetxt()```"
   ]
  },
  {
   "cell_type": "code",
   "execution_count": 108,
   "metadata": {},
   "outputs": [
    {
     "name": "stdout",
     "output_type": "stream",
     "text": [
      "[[ 2.93524537  2.9328648   2.93049891 ...,         nan         nan\n",
      "          nan]\n",
      " [ 2.934738    2.93261704  2.93027465 ...,         nan         nan\n",
      "          nan]\n",
      " [ 2.93613947  2.93298815  2.9306612  ...,         nan         nan\n",
      "          nan]\n",
      " ..., \n",
      " [ 2.962692    2.962387    2.963455   ...,  3.007614    3.003555    2.99913   ]\n",
      " [ 2.960098    2.959122    2.963394   ...,  3.012039    3.011398    3.010513  ]\n",
      " [ 2.960251    2.958511    2.961594   ...,  3.009201    3.011093    3.009872  ]]\n"
     ]
    }
   ],
   "source": [
    "polygone = np.loadtxt('polygons.txt')\n",
    "print(polygone)"
   ]
  },
  {
   "cell_type": "markdown",
   "metadata": {},
   "source": [
    "Wenn ein Array zu groß ist, um es sinnvoll auszugeben, dann hilft uns ein sogenanntes _Attribut_ des Array-Objektes weiter, ```shape```:"
   ]
  },
  {
   "cell_type": "code",
   "execution_count": 110,
   "metadata": {},
   "outputs": [
    {
     "name": "stdout",
     "output_type": "stream",
     "text": [
      "(1091, 1051)\n"
     ]
    }
   ],
   "source": [
    "print(polygone.shape)"
   ]
  },
  {
   "cell_type": "code",
   "execution_count": 114,
   "metadata": {},
   "outputs": [
    {
     "name": "stdout",
     "output_type": "stream",
     "text": [
      "Anzahl Zeilen: 1091\n",
      "Anzahl Spalten: 1051\n"
     ]
    }
   ],
   "source": [
    "# shape ist ein Tupel, ein iterierbarer Kontainer\n",
    "# ähnlich einer Liste, und hat zwei Elemente die\n",
    "# wir einzelnen Variablen zuweisen können\n",
    "hoehe, breite = polygone.shape\n",
    "\n",
    "print('Anzahl Zeilen: {}'.format(hoehe))\n",
    "print('Anzahl Spalten: {}'.format(breite))"
   ]
  },
  {
   "cell_type": "markdown",
   "metadata": {},
   "source": [
    "Ähnlich einfach können wir Matrizen aus Variablen in Dateien schreiben und speichern:"
   ]
  },
  {
   "cell_type": "code",
   "execution_count": 115,
   "metadata": {
    "collapsed": true
   },
   "outputs": [],
   "source": [
    "np.savetxt('matrix_c.txt', C)"
   ]
  },
  {
   "cell_type": "markdown",
   "metadata": {},
   "source": [
    "[top](#top)"
   ]
  },
  {
   "cell_type": "markdown",
   "metadata": {},
   "source": [
    "<a name=\"mathe\"></a>Mathe mit Arrays\n",
    "---"
   ]
  },
  {
   "cell_type": "markdown",
   "metadata": {},
   "source": [
    "Führen wir Standardoperationen wie plus, minus, mal oder geteilt auf Arrays aus, werden diese _elementeweise_ auf jeden Eintrag im Array angewendet:"
   ]
  },
  {
   "cell_type": "code",
   "execution_count": 99,
   "metadata": {},
   "outputs": [
    {
     "name": "stdout",
     "output_type": "stream",
     "text": [
      "vorher:\n",
      "[[ 0  1  2  3]\n",
      " [ 4  5  6  7]\n",
      " [ 8  9 10 11]\n",
      " [12 13 14 15]]\n",
      "\n",
      "nachher:\n",
      "[[ 2  3  4  5]\n",
      " [ 6  7  8  9]\n",
      " [10 11 12 13]\n",
      " [14 15 16 17]]\n"
     ]
    }
   ],
   "source": [
    "A = np.arange(16).reshape((4,4))\n",
    "\n",
    "print('vorher:')\n",
    "print(A)\n",
    "A = A + 2\n",
    "print('\\nnachher:')\n",
    "print(A)"
   ]
  },
  {
   "cell_type": "markdown",
   "metadata": {},
   "source": [
    "Zum Vergleich: mit Listen funktioniert das nicht!"
   ]
  },
  {
   "cell_type": "code",
   "execution_count": 100,
   "metadata": {},
   "outputs": [
    {
     "ename": "TypeError",
     "evalue": "can only concatenate list (not \"int\") to list",
     "output_type": "error",
     "traceback": [
      "\u001b[1;31m---------------------------------------------------------------------------\u001b[0m",
      "\u001b[1;31mTypeError\u001b[0m                                 Traceback (most recent call last)",
      "\u001b[1;32m<ipython-input-100-12d177411d9b>\u001b[0m in \u001b[0;36m<module>\u001b[1;34m()\u001b[0m\n\u001b[0;32m      1\u001b[0m \u001b[0ma\u001b[0m \u001b[1;33m=\u001b[0m \u001b[1;33m[\u001b[0m\u001b[1;36m1\u001b[0m\u001b[1;33m,\u001b[0m \u001b[1;36m2\u001b[0m\u001b[1;33m,\u001b[0m \u001b[1;36m3\u001b[0m\u001b[1;33m,\u001b[0m \u001b[1;36m4\u001b[0m\u001b[1;33m]\u001b[0m\u001b[1;33m\u001b[0m\u001b[0m\n\u001b[1;32m----> 2\u001b[1;33m \u001b[0ma\u001b[0m \u001b[1;33m+\u001b[0m \u001b[1;36m2\u001b[0m\u001b[1;33m\u001b[0m\u001b[0m\n\u001b[0m",
      "\u001b[1;31mTypeError\u001b[0m: can only concatenate list (not \"int\") to list"
     ]
    }
   ],
   "source": [
    "a = [1, 2, 3, 4]\n",
    "a + 2"
   ]
  },
  {
   "cell_type": "markdown",
   "metadata": {},
   "source": [
    "Auch ganz einfach mittels ```dot()``` Funktion zu realisieren ist die Matrix-Multiplikation:"
   ]
  },
  {
   "cell_type": "code",
   "execution_count": 102,
   "metadata": {},
   "outputs": [
    {
     "name": "stdout",
     "output_type": "stream",
     "text": [
      "A:\n",
      "[[1 2 3]\n",
      " [0 1 0]\n",
      " [2 0 1]]\n",
      "\n",
      "B:\n",
      "[[3 0 4]\n",
      " [0 0 1]\n",
      " [2 2 2]]\n",
      "\n",
      "C:\n",
      "[[ 9  6 12]\n",
      " [ 0  0  1]\n",
      " [ 8  2 10]]\n"
     ]
    }
   ],
   "source": [
    "# erstelle zwei 3x3 Matrizen aus Listen\n",
    "A = np.asarray([[1, 2, 3], [0, 1, 0], [2, 0, 1]])\n",
    "B = np.asarray([[3, 0, 4], [0, 0, 1], [2, 2, 2]])\n",
    "\n",
    "# multipliziere die Matrizen und speichere das Ergebnis\n",
    "C = np.dot(A, B)\n",
    "\n",
    "# überprüfe den Output\n",
    "print('A:')\n",
    "print(A)\n",
    "print('\\nB:')\n",
    "print(B)\n",
    "print('\\nC:')\n",
    "print(C)"
   ]
  },
  {
   "cell_type": "markdown",
   "metadata": {},
   "source": [
    "[top](#top)"
   ]
  },
  {
   "cell_type": "markdown",
   "metadata": {},
   "source": [
    "<a name=\"filter\"></a>Filter\n",
    "---"
   ]
  },
  {
   "cell_type": "markdown",
   "metadata": {},
   "source": [
    "Wir können auch logische Funktionen auf Arrays anwenden und sie damit _filtern_. Die entsprechende Funktion dafür ist ```where()```:"
   ]
  },
  {
   "cell_type": "code",
   "execution_count": 118,
   "metadata": {},
   "outputs": [
    {
     "data": {
      "text/plain": [
       "(array([0, 0, 1, 1, 1, 2, 2]), array([0, 1, 0, 1, 2, 0, 1]))"
      ]
     },
     "execution_count": 118,
     "metadata": {},
     "output_type": "execute_result"
    }
   ],
   "source": [
    "# an welchen Indices in der Matrix C ist die\n",
    "# Bedingung Element < 10 erfüllt?\n",
    "np.where(C < 10)"
   ]
  },
  {
   "cell_type": "code",
   "execution_count": 120,
   "metadata": {},
   "outputs": [
    {
     "data": {
      "text/plain": [
       "array([9, 6, 0, 0, 1, 8, 2])"
      ]
     },
     "execution_count": 120,
     "metadata": {},
     "output_type": "execute_result"
    }
   ],
   "source": [
    "# welche Einträge in C sind kleiner C?\n",
    "C[np.where(C < 10)]"
   ]
  },
  {
   "cell_type": "code",
   "execution_count": 121,
   "metadata": {},
   "outputs": [
    {
     "name": "stdout",
     "output_type": "stream",
     "text": [
      "[[9 6 0]\n",
      " [0 0 1]\n",
      " [8 2 0]]\n"
     ]
    }
   ],
   "source": [
    "# filtert die Matrix C so, dass jedes\n",
    "# Element größer 10 auf 1 gesetzt wird\n",
    "# und jedes Element kleiner 10 auf null\n",
    "C = np.where(C < 10, 0, 1)\n",
    "print(D)"
   ]
  },
  {
   "cell_type": "markdown",
   "metadata": {},
   "source": [
    "[top](#top)"
   ]
  },
  {
   "cell_type": "markdown",
   "metadata": {},
   "source": [
    "<a name=\"uebung07\"></a>Übung 07: Matrizen\n",
    "==="
   ]
  },
  {
   "cell_type": "markdown",
   "metadata": {},
   "source": [
    "1. **Matrizen**\n",
    "  1. Erstelle eine Liste mit 100 zufälligen Ganzzahlen. Konvertiere die Liste in ein NumPy Array und forme sie in eine 10 x 10 Matrix um.\n",
    "  2. Speichere die Matrix in einer Textdatei.\n",
    "  3. **(Optional)** Recherchiere, wie man die selbe Aufgabe mit ```numpy.random.randint()``` wesentlich kürzer schreiben kann.\n",
    "  4. Weise die 5x5 sub-Matrizen oben links, oben rechts, unten links und unten rechts jeweils separaten Variablen zu. \n",
    "  5. Multipliziere die sub-Matrizen miteinander und gib das Ergebnis aus.\n",
    "  6. **(Optional)** Experimentiere ein bisschen mit der Filter-Funktion ```where()```. Andere logische Abfragen und Operationen? Elemente aus zwei Matrizen einer dritten zuweisen?"
   ]
  },
  {
   "cell_type": "markdown",
   "metadata": {},
   "source": [
    "[top](#top)"
   ]
  }
 ],
 "metadata": {
  "kernelspec": {
   "display_name": "Python 3",
   "language": "python",
   "name": "python3"
  },
  "language_info": {
   "codemirror_mode": {
    "name": "ipython",
    "version": 3
   },
   "file_extension": ".py",
   "mimetype": "text/x-python",
   "name": "python",
   "nbconvert_exporter": "python",
   "pygments_lexer": "ipython3",
   "version": "3.5.2"
  }
 },
 "nbformat": 4,
 "nbformat_minor": 1
}
