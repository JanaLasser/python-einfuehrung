{
 "cells": [
  {
   "cell_type": "markdown",
   "metadata": {},
   "source": [
    "<a name=\"top\"></a>Übersicht: Logik und Verzweigungen\n",
    "==="
   ]
  },
  {
   "cell_type": "markdown",
   "metadata": {},
   "source": [
    "* [Logik und Wahrheitswerte](#logik)\n",
    "  * [Bool Werte (Wahrheitswerte)](#bools)\n",
    "  * [Logische Operatoren](#operatoren)\n",
    "  * [Wahrheits-Funktionen](#wahrheitsfunktionen)\n",
    "* [Verzweigungen](#verzweigungen)\n",
    "  * [If](#if)\n",
    "  * [If-else](#ifelse)\n",
    "  * [If-elif-else](#ifelifelse)\n",
    "* [Übung 03: Logik und Verzweigungen](#uebung03)"
   ]
  },
  {
   "cell_type": "markdown",
   "metadata": {},
   "source": [
    "**Lernziele:** Am Ende dieser Einheit\n",
    "* wisst ihr, wie ihr logische Tests in eurem Programm realisieren könnt,\n",
    "* wie ihr euer Programm verzweigen könnt, um auf verschiedene Fälle einzugehen und\n",
    "* wie ihr logische Tests und Verzweigungen kombinieren könnt, um kompliziertere und eventuell sogar schon hilfreiche Programme zu schreiben."
   ]
  },
  {
   "cell_type": "markdown",
   "metadata": {},
   "source": [
    "<a name=\"logik\"></a>Logik und Wahrheitswerte\n",
    "==="
   ]
  },
  {
   "cell_type": "markdown",
   "metadata": {},
   "source": [
    "<a name=\"bools\"></a>Bool Werte (Wahrheitswerte)\n",
    "---"
   ]
  },
  {
   "cell_type": "markdown",
   "metadata": {},
   "source": [
    "Ihr erinnert euch vielleicht noch an den Kopf eines ```for``` loops:"
   ]
  },
  {
   "cell_type": "code",
   "execution_count": null,
   "metadata": {
    "collapsed": true
   },
   "outputs": [],
   "source": [
    "numbers = [1, 2, 3, 4, 5]\n",
    "for number in numbers:\n",
    "    print(number)"
   ]
  },
  {
   "cell_type": "markdown",
   "metadata": {},
   "source": [
    "Es gibt noch eine Komponente im Kopf des loops, über die wir nicht wirklich gesprochen haben: das kleine Wörtchen ```in```. Wie sich aus dem \"Sprachfluss\" relativ leicht schließen lässt, deutet ```in``` auf den Kontainer (in unserem Fall die Liste), mit dem innerhalb des loops etwas passieren soll. ```in``` hat aber auch noch eine andere Verwendung:"
   ]
  },
  {
   "cell_type": "markdown",
   "metadata": {},
   "source": [
    "##### Element in Kontainer?"
   ]
  },
  {
   "cell_type": "markdown",
   "metadata": {
    "collapsed": true
   },
   "source": [
    "Um zu überprüfen, ob ein Element schon in der Liste ist, kann ich das Keyword ```in``` verwenden. Als Antword bekomme ich dann einen sogennanten \"bool'schen\" Wert - einen Wahrheitswert - der ```True``` oder ```False``` sein kann:"
   ]
  },
  {
   "cell_type": "code",
   "execution_count": null,
   "metadata": {
    "collapsed": true
   },
   "outputs": [],
   "source": [
    "# erstelle eine Liste\n",
    "kontainer = ['cat', 'dog', 'bird', 'horse']\n",
    "print(kontainer)"
   ]
  },
  {
   "cell_type": "code",
   "execution_count": null,
   "metadata": {
    "collapsed": true
   },
   "outputs": [],
   "source": [
    "# überprüfe, ob das Element 'cat' in der\n",
    "# Liste vorhanden ist\n",
    "element = 'cat'\n",
    "\n",
    "# das statement liest sich fast wie ein Satz...\n",
    "answer = element in kontainer\n",
    "print(answer)"
   ]
  },
  {
   "cell_type": "code",
   "execution_count": null,
   "metadata": {
    "collapsed": true
   },
   "outputs": [],
   "source": [
    "# natürlich müssen wir das element, nach\n",
    "# dem wir fragen nicht erst einer eigenen\n",
    "# Variablen zuweisen\n",
    " \n",
    "print('hedgehog' in kontainer)"
   ]
  },
  {
   "cell_type": "markdown",
   "metadata": {},
   "source": [
    "[top](#top)"
   ]
  },
  {
   "cell_type": "markdown",
   "metadata": {
    "collapsed": true
   },
   "source": [
    "<a name=\"operatoren\"></a>Logische Operatoren\n",
    "---"
   ]
  },
  {
   "cell_type": "markdown",
   "metadata": {
    "collapsed": true
   },
   "source": [
    "Wir kennen jetzt also einen Weg, im Programm eine \"Frage\" zu stellen und einen Wahrheitswert als Antwort zu bekommen. Das funktioniert nicht nur mit dem ```in``` Keyword sondern auch mit anderen sog. logischen Operatoren:\n",
    "* Gleichheit: ==\n",
    "* Ungleichheit: !=\n",
    "* größer als und kleiner als: > und <\n",
    "* größer oder gleich und kleiner oder gleich: >= und <="
   ]
  },
  {
   "cell_type": "markdown",
   "metadata": {
    "collapsed": true
   },
   "source": [
    "Mit diesen Operatoren können wir Variablen oder ihre Werte in Python vergleichen. Etwas später wird uns das helfen, Teile von Programmen so zu schreiben, dass sie nur ausgeführt werden, wenn eine bestimmte Bedingung eintrifft."
   ]
  },
  {
   "cell_type": "markdown",
   "metadata": {},
   "source": [
    "##### Beispiele"
   ]
  },
  {
   "cell_type": "code",
   "execution_count": 4,
   "metadata": {},
   "outputs": [
    {
     "data": {
      "text/plain": [
       "True"
      ]
     },
     "execution_count": 4,
     "metadata": {},
     "output_type": "execute_result"
    }
   ],
   "source": [
    "3 == 3   # Gleichheit"
   ]
  },
  {
   "cell_type": "code",
   "execution_count": 5,
   "metadata": {},
   "outputs": [
    {
     "data": {
      "text/plain": [
       "False"
      ]
     },
     "execution_count": 5,
     "metadata": {},
     "output_type": "execute_result"
    }
   ],
   "source": [
    "5 == 3   # Ungleichheit"
   ]
  },
  {
   "cell_type": "code",
   "execution_count": 6,
   "metadata": {},
   "outputs": [
    {
     "data": {
      "text/plain": [
       "True"
      ]
     },
     "execution_count": 6,
     "metadata": {},
     "output_type": "execute_result"
    }
   ],
   "source": [
    "5 > 3   # größer als"
   ]
  },
  {
   "cell_type": "code",
   "execution_count": 7,
   "metadata": {},
   "outputs": [
    {
     "data": {
      "text/plain": [
       "False"
      ]
     },
     "execution_count": 7,
     "metadata": {},
     "output_type": "execute_result"
    }
   ],
   "source": [
    "5 < 3   # kleiner als"
   ]
  },
  {
   "cell_type": "code",
   "execution_count": 8,
   "metadata": {},
   "outputs": [
    {
     "data": {
      "text/plain": [
       "True"
      ]
     },
     "execution_count": 8,
     "metadata": {},
     "output_type": "execute_result"
    }
   ],
   "source": [
    "3 >= 3.0 # größer oder gleich"
   ]
  },
  {
   "cell_type": "code",
   "execution_count": 9,
   "metadata": {},
   "outputs": [
    {
     "data": {
      "text/plain": [
       "True"
      ]
     },
     "execution_count": 9,
     "metadata": {},
     "output_type": "execute_result"
    }
   ],
   "source": [
    "5 <= 6   # kleiner oder gleich"
   ]
  },
  {
   "cell_type": "code",
   "execution_count": 10,
   "metadata": {},
   "outputs": [
    {
     "data": {
      "text/plain": [
       "False"
      ]
     },
     "execution_count": 10,
     "metadata": {},
     "output_type": "execute_result"
    }
   ],
   "source": [
    "5 <= 4   # kleiner oder gleich"
   ]
  },
  {
   "cell_type": "code",
   "execution_count": 11,
   "metadata": {},
   "outputs": [
    {
     "data": {
      "text/plain": [
       "True"
      ]
     },
     "execution_count": 11,
     "metadata": {},
     "output_type": "execute_result"
    }
   ],
   "source": [
    "vokale = ['a', 'e', 'i', 'o', 'u']\n",
    "'e' in vokale   # Existenz"
   ]
  },
  {
   "cell_type": "markdown",
   "metadata": {},
   "source": [
    "[top](#top)"
   ]
  },
  {
   "cell_type": "markdown",
   "metadata": {},
   "source": [
    "<a name=\"wahrheitsfunktionen\"></a>Wahrheitsfunktionen\n",
    "---"
   ]
  },
  {
   "cell_type": "markdown",
   "metadata": {},
   "source": [
    "Wahrheitsfunktionen sind Keywords die zwei Wahrheitswerte miteinander vergleichen. Python kenn drei von ihnen:\n",
    "* **not**: die Negation\n",
    "* **and**: die Konjunktion\n",
    "* **or**: die Disjunktion"
   ]
  },
  {
   "cell_type": "markdown",
   "metadata": {},
   "source": [
    "##### Die Negation \"not\""
   ]
  },
  {
   "cell_type": "markdown",
   "metadata": {},
   "source": [
    "**not** negiert einen Wahrheitswert (entgegen dem, was ich oben gesagt habe, vergleicht es also nicht zwei Werte sondern operiert auf einem einzelnen Wert):"
   ]
  },
  {
   "cell_type": "code",
   "execution_count": 12,
   "metadata": {},
   "outputs": [
    {
     "data": {
      "text/plain": [
       "False"
      ]
     },
     "execution_count": 12,
     "metadata": {},
     "output_type": "execute_result"
    }
   ],
   "source": [
    "not True"
   ]
  },
  {
   "cell_type": "code",
   "execution_count": 13,
   "metadata": {},
   "outputs": [
    {
     "data": {
      "text/plain": [
       "True"
      ]
     },
     "execution_count": 13,
     "metadata": {},
     "output_type": "execute_result"
    }
   ],
   "source": [
    "not False"
   ]
  },
  {
   "cell_type": "code",
   "execution_count": 14,
   "metadata": {},
   "outputs": [
    {
     "data": {
      "text/plain": [
       "False"
      ]
     },
     "execution_count": 14,
     "metadata": {},
     "output_type": "execute_result"
    }
   ],
   "source": [
    "not 5 == 5"
   ]
  },
  {
   "cell_type": "code",
   "execution_count": 15,
   "metadata": {},
   "outputs": [
    {
     "data": {
      "text/plain": [
       "False"
      ]
     },
     "execution_count": 15,
     "metadata": {},
     "output_type": "execute_result"
    }
   ],
   "source": [
    "not 'a' in vokale"
   ]
  },
  {
   "cell_type": "markdown",
   "metadata": {},
   "source": [
    "##### Die Konjunktion \"and\""
   ]
  },
  {
   "cell_type": "markdown",
   "metadata": {},
   "source": [
    "**and** vergleicht zwei bool'sche Werte und liefert **True** zurück, wenn beide wahr sind:"
   ]
  },
  {
   "cell_type": "code",
   "execution_count": 16,
   "metadata": {},
   "outputs": [
    {
     "data": {
      "text/plain": [
       "True"
      ]
     },
     "execution_count": 16,
     "metadata": {},
     "output_type": "execute_result"
    }
   ],
   "source": [
    "5 == 5 and 3 > 2"
   ]
  },
  {
   "cell_type": "code",
   "execution_count": 17,
   "metadata": {},
   "outputs": [
    {
     "data": {
      "text/plain": [
       "False"
      ]
     },
     "execution_count": 17,
     "metadata": {},
     "output_type": "execute_result"
    }
   ],
   "source": [
    "5 != 5 and 3 > 2"
   ]
  },
  {
   "cell_type": "markdown",
   "metadata": {},
   "source": [
    "Das können wir natürlich auch zu längeren Ketten verknüpfen. Die ganze Kette von logischen Statements ist nur dann wahr, wenn ledes einzelne Statement wahr ist:"
   ]
  },
  {
   "cell_type": "code",
   "execution_count": 18,
   "metadata": {},
   "outputs": [
    {
     "data": {
      "text/plain": [
       "True"
      ]
     },
     "execution_count": 18,
     "metadata": {},
     "output_type": "execute_result"
    }
   ],
   "source": [
    "5 == 5 and 3 < 5 and 6 >= 4 and 'a' in ['a','b','c']\n",
    "# True und True  und True   und  True = True"
   ]
  },
  {
   "cell_type": "code",
   "execution_count": 19,
   "metadata": {},
   "outputs": [
    {
     "data": {
      "text/plain": [
       "False"
      ]
     },
     "execution_count": 19,
     "metadata": {},
     "output_type": "execute_result"
    }
   ],
   "source": [
    "5 != 5 and 3 < 5 and 6 >= 4 and 'a' in ['a','b','c']\n",
    "# False und True und True und True = False"
   ]
  },
  {
   "cell_type": "markdown",
   "metadata": {},
   "source": [
    "##### Die Disjunktion \"or\""
   ]
  },
  {
   "cell_type": "markdown",
   "metadata": {},
   "source": [
    "**or** vergleicht auch zwei bool'sche Werte und liefert **True** zurück, wenn mindestens _einer_ der beiden Werte wahr ist:"
   ]
  },
  {
   "cell_type": "code",
   "execution_count": 20,
   "metadata": {},
   "outputs": [
    {
     "data": {
      "text/plain": [
       "True"
      ]
     },
     "execution_count": 20,
     "metadata": {},
     "output_type": "execute_result"
    }
   ],
   "source": [
    "5 != 5 or 3 < 5\n",
    "# False oder True"
   ]
  },
  {
   "cell_type": "code",
   "execution_count": 21,
   "metadata": {},
   "outputs": [
    {
     "data": {
      "text/plain": [
       "True"
      ]
     },
     "execution_count": 21,
     "metadata": {},
     "output_type": "execute_result"
    }
   ],
   "source": [
    "False or True"
   ]
  },
  {
   "cell_type": "code",
   "execution_count": 22,
   "metadata": {},
   "outputs": [
    {
     "data": {
      "text/plain": [
       "True"
      ]
     },
     "execution_count": 22,
     "metadata": {},
     "output_type": "execute_result"
    }
   ],
   "source": [
    "5 != 5 or 3 < 5 or 6 >= 4 or 'a' in ['a','b','c']\n",
    "# False oder True oder True oder True = True"
   ]
  },
  {
   "cell_type": "code",
   "execution_count": 23,
   "metadata": {},
   "outputs": [
    {
     "data": {
      "text/plain": [
       "False"
      ]
     },
     "execution_count": 23,
     "metadata": {},
     "output_type": "execute_result"
    }
   ],
   "source": [
    "5 != 5 or 3 > 5 or 6 <= 4 or 'a' not in ['a','b','c']\n",
    "# False oder False oder False oder False = False"
   ]
  },
  {
   "cell_type": "markdown",
   "metadata": {},
   "source": [
    "[top](#top)"
   ]
  },
  {
   "cell_type": "markdown",
   "metadata": {},
   "source": [
    "<a name=\"verzweigungen\"></a>Verzweigungen\n",
    "==="
   ]
  },
  {
   "cell_type": "markdown",
   "metadata": {},
   "source": [
    "Bis jetzt hat unser Programm immer alle Zeilen unseres Codes ausgeführt. Klar: bei loops wurde ein Block Code häufiger als einmal ausgeführt aber trotzdem ist der Computer immer durch jeden Befehl durchgegangen, den wir hingeschrieben haben.  \n",
    "\n",
    "Nun kann es sein, dass wir die Ausführung des Codes an Bedningungen knüpfen wollen - eine sogenannte _Verzweigung_ im Code kreieren. Dafür brauchen wir ein neues Keyword:"
   ]
  },
  {
   "cell_type": "markdown",
   "metadata": {},
   "source": [
    "<a name=\"if\"></a>If\n",
    "---"
   ]
  },
  {
   "cell_type": "markdown",
   "metadata": {},
   "source": [
    "Das einfachste ```if``` Statement ist ein logischer Test und eine einzelne Aktion die ausgeführt wird, wenn der Test **True** zurückgibt:"
   ]
  },
  {
   "cell_type": "code",
   "execution_count": 24,
   "metadata": {},
   "outputs": [
    {
     "name": "stdout",
     "output_type": "stream",
     "text": [
      "vokal gefunden!\n"
     ]
    }
   ],
   "source": [
    "buchstabe = 'e'\n",
    "\n",
    "# hier \"verzweigen\" wir den Code\n",
    "if buchstabe in vokale:\n",
    "    print('vokal gefunden!')"
   ]
  },
  {
   "cell_type": "code",
   "execution_count": 25,
   "metadata": {
    "collapsed": true
   },
   "outputs": [],
   "source": [
    "buchstabe = 'k'\n",
    "\n",
    "# diesmal passiert nichts wenn wir den\n",
    "# Code ausführen\n",
    "if buchstabe in vokale:\n",
    "    print('vokal gefunen!')"
   ]
  },
  {
   "cell_type": "markdown",
   "metadata": {},
   "source": [
    "**WICHTIG:** auch beim ```if``` Statement den Doppelpunkt am Ende nicht vergessen, um dem Computer zu sagen, dass das Statement zu Ende ist!"
   ]
  },
  {
   "cell_type": "markdown",
   "metadata": {},
   "source": [
    "Damit könnte man schon ein relativ simples aber eventuell sogar hilfreiches kleines Program schreiben:"
   ]
  },
  {
   "cell_type": "code",
   "execution_count": null,
   "metadata": {
    "collapsed": true
   },
   "outputs": [],
   "source": [
    "# Suche nach einer Datei\n",
    "\n",
    "# Liste von Dateinamen\n",
    "filenames = ['2017-03-15.csv', '2017-04-03.txt', '2017-05-01.txt']\n",
    "\n",
    "# Datei nach der wir suchen\n",
    "file = '2017-04-03.txt'\n",
    "\n",
    "# Test, ob die Datei in der Liste der Dateinamen\n",
    "# enthalten ist\n",
    "if file in filenames:\n",
    "    print('file {} gefunden!'.format(file))"
   ]
  },
  {
   "cell_type": "markdown",
   "metadata": {},
   "source": [
    "Wir können ```if``` statements auch mit logischen Operatoren verknüpfen:"
   ]
  },
  {
   "cell_type": "code",
   "execution_count": 27,
   "metadata": {
    "collapsed": true
   },
   "outputs": [],
   "source": [
    "number = 60\n",
    "if number > 10 and number < 50:\n",
    "    print('Zahl zwischen 10 und 50 gefunden!')"
   ]
  },
  {
   "cell_type": "markdown",
   "metadata": {},
   "source": [
    "An dieser Stelle können wir noch einen handlichen, kleinen Operator einführen: den **modulo** Operator %:"
   ]
  },
  {
   "cell_type": "code",
   "execution_count": 28,
   "metadata": {},
   "outputs": [
    {
     "data": {
      "text/plain": [
       "0"
      ]
     },
     "execution_count": 28,
     "metadata": {},
     "output_type": "execute_result"
    }
   ],
   "source": [
    "10 % 2"
   ]
  },
  {
   "cell_type": "code",
   "execution_count": 29,
   "metadata": {},
   "outputs": [
    {
     "data": {
      "text/plain": [
       "1"
      ]
     },
     "execution_count": 29,
     "metadata": {},
     "output_type": "execute_result"
    }
   ],
   "source": [
    "10 % 3"
   ]
  },
  {
   "cell_type": "code",
   "execution_count": 30,
   "metadata": {},
   "outputs": [
    {
     "data": {
      "text/plain": [
       "0"
      ]
     },
     "execution_count": 30,
     "metadata": {},
     "output_type": "execute_result"
    }
   ],
   "source": [
    "9 % 3"
   ]
  },
  {
   "cell_type": "markdown",
   "metadata": {},
   "source": [
    "Modulo gibt mir den Rest, der beim Teilen durch eine ganze Zahl bleibt zurück! Das ist z.B. sehr praktisch, um zu überprüfen, ob eine Zahl gerade ist:"
   ]
  },
  {
   "cell_type": "code",
   "execution_count": 31,
   "metadata": {},
   "outputs": [
    {
     "name": "stdout",
     "output_type": "stream",
     "text": [
      "Zahl gerade!\n"
     ]
    }
   ],
   "source": [
    "zahl = 10\n",
    "\n",
    "if zahl % 2 == 0:\n",
    "    print('Zahl gerade!')"
   ]
  },
  {
   "cell_type": "code",
   "execution_count": 33,
   "metadata": {
    "collapsed": true
   },
   "outputs": [],
   "source": [
    "zahl = 15\n",
    "\n",
    "if zahl % 2 == 0 and zahl > 10:\n",
    "    print('gerade Zahl über 10 gefunden!')"
   ]
  },
  {
   "cell_type": "markdown",
   "metadata": {},
   "source": [
    "[top](#top)"
   ]
  },
  {
   "cell_type": "markdown",
   "metadata": {},
   "source": [
    "<a name=\"ifelse\"></a>If-else\n",
    "---"
   ]
  },
  {
   "cell_type": "markdown",
   "metadata": {},
   "source": [
    "Aktuell passiert in unserem Code gar nichts, wenn das ```if``` Statement nicht erfüllt ist. Um eine wirkliche Verzweigung zu realisieren, die zwei gleichwertige Möglichkeiten beinhaltet, brauchen wir noch ein zweites Keyword: ```else```"
   ]
  },
  {
   "cell_type": "code",
   "execution_count": 35,
   "metadata": {},
   "outputs": [
    {
     "name": "stdout",
     "output_type": "stream",
     "text": [
      "vokal gefunen!\n"
     ]
    }
   ],
   "source": [
    "buchstabe = 'o'\n",
    "\n",
    "# nun verändert sich der Output, je\n",
    "# nach dem welchen Wert buchstabe hat\n",
    "if buchstabe in vokale:\n",
    "    print('vokal gefunen!')\n",
    "else:\n",
    "    print('kein vokal :-(')"
   ]
  },
  {
   "cell_type": "code",
   "execution_count": 37,
   "metadata": {},
   "outputs": [
    {
     "name": "stdout",
     "output_type": "stream",
     "text": [
      "gerade Zahl gefunden!\n"
     ]
    }
   ],
   "source": [
    "zahl = 10\n",
    "if zahl % 2 == 0:\n",
    "    print('gerade Zahl gefunden!')\n",
    "else:\n",
    "    print('ungerade Zahl gefunden!')"
   ]
  },
  {
   "cell_type": "markdown",
   "metadata": {},
   "source": [
    "Natürlich können wir die ```if``` Statements auch schachteln:"
   ]
  },
  {
   "cell_type": "code",
   "execution_count": 40,
   "metadata": {},
   "outputs": [
    {
     "name": "stdout",
     "output_type": "stream",
     "text": [
      "vokal gefunen!\n",
      "buchstabe Teil von \"jana\"!\n"
     ]
    }
   ],
   "source": [
    "buchstabe = 'a'\n",
    "\n",
    "# teste erst, ob der Buchstabe ein Vokal ist\n",
    "if buchstabe in vokale:\n",
    "    \n",
    "    # wenn ja, erzeuge entsprechenden Output\n",
    "    print('vokal gefunen!')\n",
    "    \n",
    "    # teste ob buchstabe außerdem in \"jana\"\n",
    "    # enthalten ist\n",
    "    if buchstabe in 'jana':\n",
    "        print('buchstabe Teil von \"jana\"!')\n",
    "    else:\n",
    "        print('komischer buchstabe...')\n",
    "        \n",
    "# buchstabe ist kein Vokal       \n",
    "else:\n",
    "    print('kein vokal :-(')"
   ]
  },
  {
   "cell_type": "markdown",
   "metadata": {},
   "source": [
    "[top](#top)"
   ]
  },
  {
   "cell_type": "markdown",
   "metadata": {},
   "source": [
    "<a name=\"ifelifelse\"></a>If-elif-else\n",
    "---"
   ]
  },
  {
   "cell_type": "markdown",
   "metadata": {},
   "source": [
    "Damit könnten wir theoretisch schon jede beliebige Verzweigungsstruktur realisieren. Verschachtelungen sind aber relativ schwierig fehlerfrei zu realisieren und noch schwieriger von anderen zu verstehen. Deswegen gibt es noch ein drittes Keyword, das uns das Leben deutlisch einfacher macht ```elif```.  \n",
    "Damit können wir jetzt praktisch unendlich lange Verzweigungen realisieren, ohne zu schachteln:"
   ]
  },
  {
   "cell_type": "code",
   "execution_count": 41,
   "metadata": {},
   "outputs": [
    {
     "name": "stdout",
     "output_type": "stream",
     "text": [
      "It's monday. I am sad.\n",
      "It's tuesday. I am sad.\n",
      "It's wednesday. I am hopeful\n",
      "It's thursday. I am happy.\n",
      "It's friday. I am happy.\n"
     ]
    }
   ],
   "source": [
    "# Liste der Wochentage\n",
    "weekdays = ['monday', 'tuesday', 'wednesday', 'thursday', 'friday']\n",
    "\n",
    "# iteriere über alle fünf Tage\n",
    "for day in weekdays:\n",
    "    \n",
    "    # wenn der Tag Montag oder Dienstag ist sei traurig\n",
    "    if day == 'monday' or day == 'tuesday':\n",
    "        print(\"It's {}. I am sad.\".format(day))\n",
    "        \n",
    "    # wenn der Tag Mittwoch ist, sei hoffnungsfroh\n",
    "    elif day == 'wednesday':\n",
    "        print(\"It's {}. I am hopeful\".format(day))\n",
    "        \n",
    "    # wenn der Tag Donnerstag oder Freitag ist, sei froh\n",
    "    elif day == 'thursday' or day == 'friday':\n",
    "        print(\"It's {}. I am happy.\".format(day))\n",
    "        \n",
    "    # der 'else' Teil wird in diesem Beispiel nie erreicht\n",
    "    else:\n",
    "        print('Huh... its probably weekend')"
   ]
  },
  {
   "cell_type": "markdown",
   "metadata": {},
   "source": [
    "Mit ```elif``` und einer Wahrheitsfunktion können wir das Beispiel mit dem Vokal deutlich klarer hinschreiben:"
   ]
  },
  {
   "cell_type": "code",
   "execution_count": 44,
   "metadata": {},
   "outputs": [
    {
     "name": "stdout",
     "output_type": "stream",
     "text": [
      "vokal gefunen!\n",
      "buchstabe Teil von \"jana\"!\n"
     ]
    }
   ],
   "source": [
    "buchstabe = 'a'\n",
    "\n",
    "# teste ob der Buchstabe Vokal und in \"jana\" ist \n",
    "if buchstabe in vokale and buchstabe in \"jana\":\n",
    "    print('vokal gefunen!')\n",
    "    print('buchstabe Teil von \"jana\"!') \n",
    "    \n",
    "# teste, ob der Buchstabe ein Vokal ist\n",
    "elif buchstabe in vokale:\n",
    "    print('vokal gefunen!')\n",
    "    print('komischer buchstabe...')   \n",
    "    \n",
    "# buchstabe kein Vokal\n",
    "else:\n",
    "    print('kein vokal :-(')"
   ]
  },
  {
   "cell_type": "markdown",
   "metadata": {},
   "source": [
    "[top](#top)"
   ]
  },
  {
   "cell_type": "markdown",
   "metadata": {},
   "source": [
    "<a name='uebung03'></a>Übung 03: Logik und Verzweigungen\n",
    "==="
   ]
  },
  {
   "cell_type": "markdown",
   "metadata": {},
   "source": [
    "1. **Logik und Wahrheitswerte**\n",
    "  1. Schreib ein Programm, das überprüft ob eine Zahl durch drei teilbar ist.\n",
    "  2. Schreib ein Programm, das überprüft, ob ein Wort den Buchstaben 'e' enthält und kürzer als 5 Buchstaben ist.\n",
    "2. **Verzweigungen**\n",
    "  1. Erstelle eine Liste mit den Zahlen von 0 bis 20\n",
    "  2. Schreibe ein Programm, das mit einem ```for``` loop über die Liste iteriert und\n",
    "    * alle geraden Zahlen findet und ausgibt\n",
    "    * alle Primzahlen findet und ausgibt\n",
    "    * einen Spezialfall für die Null hat"
   ]
  },
  {
   "cell_type": "markdown",
   "metadata": {},
   "source": [
    "[top](#top)"
   ]
  }
 ],
 "metadata": {
  "kernelspec": {
   "display_name": "Python 3",
   "language": "python",
   "name": "python3"
  },
  "language_info": {
   "codemirror_mode": {
    "name": "ipython",
    "version": 3
   },
   "file_extension": ".py",
   "mimetype": "text/x-python",
   "name": "python",
   "nbconvert_exporter": "python",
   "pygments_lexer": "ipython3",
   "version": "3.5.2"
  }
 },
 "nbformat": 4,
 "nbformat_minor": 1
}
