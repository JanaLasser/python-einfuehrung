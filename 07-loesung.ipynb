{
 "cells": [
  {
   "cell_type": "markdown",
   "metadata": {},
   "source": [
    "<a name=\"loesung07\"></a>Lösung Übung 07\n",
    "==="
   ]
  },
  {
   "cell_type": "code",
   "execution_count": 4,
   "metadata": {},
   "outputs": [
    {
     "name": "stdout",
     "output_type": "stream",
     "text": [
      "[[39 38 57  6 95 98  3 59 80  3]\n",
      " [77 12 58 21 38 57 94 65 14 87]\n",
      " [23 65 83 44 69 94 38 93 83 44]\n",
      " [57 86 26 70 86  9 15 98  5 23]\n",
      " [13  3 65 35 12 75 60 71 21 23]\n",
      " [ 6 40 32 88 69 51 40 69 33  7]\n",
      " [74 29  3 92 92 18 52 83 87 69]\n",
      " [45 72 72 48 50 79  8 42 81 56]\n",
      " [27 64 61 13  9  6 74 91 43 27]\n",
      " [57 86 39  1 14  6 50 31 29 87]]\n"
     ]
    }
   ],
   "source": [
    "# 1.a\n",
    "# importiere sowohl random als auch numpy\n",
    "# merke: numpy ist von jetzt an mit dem Kürzel \"np\"\n",
    "# aufrufbar!\n",
    "import random\n",
    "import numpy as np\n",
    "\n",
    "# erstelle eine Liste mit 100 Zufallszahlen zwischen 0 und 100\n",
    "numbers = [random.randint(0,101) for i in range(100)]\n",
    "# konvertiere die Liste in ein Array\n",
    "numbers = np.asarray(numbers)\n",
    "# \"forme\" das eindimensionale Array zu einer zweidimensionalen\n",
    "# 10x10 Matrix um\n",
    "numbers = numbers.reshape((10,10))\n",
    "print(numbers)"
   ]
  },
  {
   "cell_type": "code",
   "execution_count": 5,
   "metadata": {
    "collapsed": true
   },
   "outputs": [],
   "source": [
    "# 1.b\n",
    "np.savetxt('zufellige-zahlen.txt', numbers)"
   ]
  },
  {
   "cell_type": "code",
   "execution_count": 6,
   "metadata": {},
   "outputs": [
    {
     "name": "stdout",
     "output_type": "stream",
     "text": [
      "[[  4   8   9   0  18  71  95   8   0  82]\n",
      " [ 48  12  73  20 100  14  44  86  16  58]\n",
      " [ 21  27  28  55  76  91  41  42   9   5]\n",
      " [ 90  56  32  51  78  78  95  99  69  67]\n",
      " [ 24  78  43  35  96   4  13  73  89  90]\n",
      " [ 28  79  11  59   2  85  97  98  12  52]\n",
      " [ 72  81  42  77  75  11  59  84  95  36]\n",
      " [ 37  87   7  53 100  85  31   6  89   5]\n",
      " [ 31  78  79  96  31  25  52  62  71  80]\n",
      " [ 37  87  88  96  88  34  85  65  84  45]]\n"
     ]
    }
   ],
   "source": [
    "# 1.c\n",
    "# Dokumentation zu numpy.random.randint:\n",
    "# https://docs.scipy.org/doc/numpy/reference/generated/numpy.random.randint.html\n",
    "\n",
    "numbers = np.random.randint(0, 101, (10,10))\n",
    "print(numbers)"
   ]
  },
  {
   "cell_type": "code",
   "execution_count": 9,
   "metadata": {},
   "outputs": [
    {
     "name": "stdout",
     "output_type": "stream",
     "text": [
      "oben links:\n",
      "[[  4   8   9   0  18]\n",
      " [ 48  12  73  20 100]\n",
      " [ 21  27  28  55  76]\n",
      " [ 90  56  32  51  78]\n",
      " [ 24  78  43  35  96]]\n",
      "oben rechts\n",
      "[[71 95  8  0 82]\n",
      " [14 44 86 16 58]\n",
      " [91 41 42  9  5]\n",
      " [78 95 99 69 67]\n",
      " [ 4 13 73 89 90]]\n",
      "unten links\n",
      "[[ 28  79  11  59   2]\n",
      " [ 72  81  42  77  75]\n",
      " [ 37  87   7  53 100]\n",
      " [ 31  78  79  96  31]\n",
      " [ 37  87  88  96  88]]\n",
      "unten rechts\n",
      "[[85 97 98 12 52]\n",
      " [11 59 84 95 36]\n",
      " [85 31  6 89  5]\n",
      " [25 52 62 71 80]\n",
      " [34 85 65 84 45]]\n"
     ]
    }
   ],
   "source": [
    "# 1.d\n",
    "print('oben links:')\n",
    "oben_links = numbers[0:5, 0:5]\n",
    "print(oben_links)\n",
    "print('oben rechts')\n",
    "oben_rechts = numbers[0:5, 5:]\n",
    "print(oben_rechts)\n",
    "print('unten links')\n",
    "unten_links = numbers [5:, 0:5]\n",
    "print(unten_links)\n",
    "print('unten rechts')\n",
    "unten_rechts = numbers[5:, 5:]\n",
    "print(unten_rechts)"
   ]
  },
  {
   "cell_type": "code",
   "execution_count": 11,
   "metadata": {},
   "outputs": [
    {
     "name": "stdout",
     "output_type": "stream",
     "text": [
      "[[ 1287  1335  2412  1811  2457]\n",
      " [12179 11281 13762 11129 15337]\n",
      " [ 9011 10544 14659 11243 13953]\n",
      " [14376 18185 17623 11645 21225]\n",
      " [ 9823 12048 19179 12594 17692]]\n"
     ]
    }
   ],
   "source": [
    "# 1.e\n",
    "matrix_produkt = np.dot(oben_links, oben_rechts)\n",
    "print(matrix_produkt)\n",
    "\n",
    "# etc für die anderen Produkte"
   ]
  },
  {
   "cell_type": "code",
   "execution_count": 14,
   "metadata": {},
   "outputs": [
    {
     "name": "stdout",
     "output_type": "stream",
     "text": [
      "[[28 79 98 12  2]\n",
      " [11 59 42 95 75]\n",
      " [37 31  6 89  5]\n",
      " [31 78 79 96 31]\n",
      " [34 85 88 96 88]]\n"
     ]
    }
   ],
   "source": [
    "# 1.f\n",
    "# erstelle eine neue Matrix\n",
    "# schaue in der Matrix oben_rechts nach:\n",
    "# wenn oben_rechts > 50, nim ein Element aus unten_links\n",
    "# wenn oben_rechts < 50, nim ein Element aus unten_rechts\n",
    "neue_matrix = np.where(oben_rechts > 50, unten_links, unten_rechts)\n",
    "print(neue_matrix)"
   ]
  }
 ],
 "metadata": {
  "kernelspec": {
   "display_name": "Python 3",
   "language": "python",
   "name": "python3"
  },
  "language_info": {
   "codemirror_mode": {
    "name": "ipython",
    "version": 3
   },
   "file_extension": ".py",
   "mimetype": "text/x-python",
   "name": "python",
   "nbconvert_exporter": "python",
   "pygments_lexer": "ipython3",
   "version": "3.5.2"
  }
 },
 "nbformat": 4,
 "nbformat_minor": 1
}
