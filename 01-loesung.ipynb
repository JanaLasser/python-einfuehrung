{
 "cells": [
  {
   "cell_type": "markdown",
   "metadata": {},
   "source": [
    "<a name=\"loesung\"></a>Lösung zu Übung 01\n",
    "==="
   ]
  },
  {
   "cell_type": "code",
   "execution_count": 1,
   "metadata": {},
   "outputs": [
    {
     "name": "stdout",
     "output_type": "stream",
     "text": [
      "2\n",
      "0\n",
      "12\n",
      "2.0\n",
      "256\n"
     ]
    }
   ],
   "source": [
    "# 2.a \n",
    "print(1 + 1)\n",
    "print(1 - 1)\n",
    "print(3 * 4)\n",
    "print(10 / 5)\n",
    "print(2 ** 8)"
   ]
  },
  {
   "cell_type": "code",
   "execution_count": 2,
   "metadata": {},
   "outputs": [
    {
     "name": "stdout",
     "output_type": "stream",
     "text": [
      "3\n",
      "<class 'int'>\n"
     ]
    }
   ],
   "source": [
    "# 2.b\n",
    "ergebnis = int(10 / 3)\n",
    "print(ergebnis)\n",
    "print(type(ergebnis))"
   ]
  },
  {
   "cell_type": "code",
   "execution_count": 3,
   "metadata": {},
   "outputs": [
    {
     "name": "stdout",
     "output_type": "stream",
     "text": [
      "32\n",
      "50\n"
     ]
    }
   ],
   "source": [
    "# 2.c\n",
    "ergebnis = 10 * 3 + 2\n",
    "ergebnis2 = 10 * (3 + 2)\n",
    "\n",
    "print(ergebnis)\n",
    "print(ergebnis2)"
   ]
  },
  {
   "cell_type": "code",
   "execution_count": 4,
   "metadata": {},
   "outputs": [
    {
     "name": "stdout",
     "output_type": "stream",
     "text": [
      "0.30000000000000004\n"
     ]
    }
   ],
   "source": [
    "# 2.d\n",
    "print(0.1 + 0.2) # not exactly 0.3!"
   ]
  },
  {
   "cell_type": "code",
   "execution_count": 5,
   "metadata": {
    "collapsed": true
   },
   "outputs": [],
   "source": [
    "# 3.a\n",
    "vorname = 'Emmy'\n",
    "nachname = 'Noether'\n",
    "zitat = '''Das erste und einzige Mal, dass \n",
    "man Emmy Noether in Deutschland ohne jede \n",
    "Einschränkung ihren männlichen (beamteten) \n",
    "Kollegen gleichstellte, war, als die \n",
    "Nationalsozialisten sie aufgrund des Gesetzes \n",
    "zur Wiederherstellung des Berufsbeamtentums ... \n",
    "am 25. April 1933 von ihrer Tätigkeit an der \n",
    "Universität Göttingen beurlaubten, obwohl sie \n",
    "als nichtbeamtete Professorin zu diesem \n",
    "Zeitpunkt strenggenommen vom Gesetz noch \n",
    "gar nicht betroffen war.'''"
   ]
  },
  {
   "cell_type": "code",
   "execution_count": 6,
   "metadata": {},
   "outputs": [
    {
     "name": "stdout",
     "output_type": "stream",
     "text": [
      "Über Emmy Noether: Das erste und einzige Mal, dass \n",
      "man Emmy Noether in Deutschland ohne jede \n",
      "Einschränkung ihren männlichen (beamteten) \n",
      "Kollegen gleichstellte, war, als die \n",
      "Nationalsozialisten sie aufgrund des Gesetzes \n",
      "zur Wiederherstellung des Berufsbeamtentums ... \n",
      "am 25. April 1933 von ihrer Tätigkeit an der \n",
      "Universität Göttingen beurlaubten, obwohl sie \n",
      "als nichtbeamtete Professorin zu diesem \n",
      "Zeitpunkt strenggenommen vom Gesetz noch \n",
      "gar nicht betroffen war.\n"
     ]
    }
   ],
   "source": [
    "# 3.c\n",
    "print('Über {} {}: {}'.format(vorname, nachname, zitat))"
   ]
  }
 ],
 "metadata": {
  "kernelspec": {
   "display_name": "Python 3",
   "language": "python",
   "name": "python3"
  },
  "language_info": {
   "codemirror_mode": {
    "name": "ipython",
    "version": 3
   },
   "file_extension": ".py",
   "mimetype": "text/x-python",
   "name": "python",
   "nbconvert_exporter": "python",
   "pygments_lexer": "ipython3",
   "version": "3.5.2"
  }
 },
 "nbformat": 4,
 "nbformat_minor": 2
}
