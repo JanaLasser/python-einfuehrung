{
 "cells": [
  {
   "cell_type": "markdown",
   "metadata": {},
   "source": [
    "# Zeitplan"
   ]
  },
  {
   "cell_type": "markdown",
   "metadata": {},
   "source": [
    "**09:15 - 09:30**  $\\quad$ Materialien updaten  \n",
    "**09:30 - 10:30**  $\\quad$ Übung 04: _Mehr Listen_  \n",
    "**10:30 - 11:00**  $\\quad$ Input: _Funktionen_  \n",
    "**11:00 - 11:15**  $\\quad$ Kaffeepause  \n",
    "**11:15 - 12:00**  $\\quad$ Übung 05: _Funktionen_  \n",
    "\n",
    "**12:00 - 13:00**  $\\quad$ Mittagspause  \n",
    "\n",
    "**13:00 - 13:30**  $\\quad$ Input: _Standardbibliothek_   \n",
    "**13:30 - 14:30**  $\\quad$ Übung 06: _Standardbibliothek_  \n",
    "**14:30 - 14:45**  $\\quad$ Input: _Matrizen_     \n",
    "**14:45 - 15:00**  $\\quad$ Kaffeepause  \n",
    "**15:00 - 15:15**  $\\quad$ Input: _Plots_  \n",
    "**15:15 - 15:45**  $\\quad$ (Alternative) Übung 07: _Matrizen_  \n",
    "**15:15 - 15:45**  $\\quad$ (Alternative) Übung 08: _Plots_    \n",
    "**15:45 - 16:00**  $\\quad$ Input: _Anwendungsbeispiele_  \n",
    "**16:15 - 16:00**  $\\quad$ Evaluation & Feedback "
   ]
  },
  {
   "cell_type": "markdown",
   "metadata": {},
   "source": [
    "<a name=\"top\"></a>Übersicht: Funktionen\n",
    "==="
   ]
  },
  {
   "cell_type": "markdown",
   "metadata": {},
   "source": [
    "* [Funktionen](#funktionen)\n",
    "  * [Die Anatomie der Funktion](#anatomie)\n",
    "  * [Syntax](#syntax)\n",
    "  * [Namespaces](#namespaces)\n",
    "  * [Rückgabewerte](#return)\n",
    "  * [Beispiele](#beispiele)\n",
    "* [Argumente](#argumente)\n",
    "  * [Positionsabhängige Argumente](#positional)\n",
    "  * [Default Argumente](#default)\n",
    "  * [Keyword-Argumente](#keyword)\n",
    "  * [Vorteile von Funktionen](#vorteile)\n",
    "* [Übung 05: Funktionen](#uebung05)"
   ]
  },
  {
   "cell_type": "markdown",
   "metadata": {},
   "source": [
    "**Lernziele:** Am Ende dieser Einheit\n",
    "* wisst ihr, warum es eine gute Idee ist, Funktionen zu benutzen\n",
    "* könnt ihr eure eigenen Funktionen basteln\n",
    "* wisst ihr, wie ihr Funktionen mit Hilfe von default- und keyword Argumenten extrem versatil gestalten könnt"
   ]
  },
  {
   "cell_type": "markdown",
   "metadata": {},
   "source": [
    "<a name=\"funktionen\"></a>Funktionen\n",
    "==="
   ]
  },
  {
   "cell_type": "markdown",
   "metadata": {},
   "source": [
    "Oftmals möchten wir in unserem Code ein und die selbe Aktion oder Folge von Aktionen mehrfach ausführen. Wir können natürlich per copy & paste einfach den Code an die entsprechenden Stellen kopieren, aber das wird sehr schnell unübersichtlich und kompliziert - vor allem, wenn wir etwas an den Aktionen verändern möchten. Um dieses Problem zu lösen, kennt fast jede Programmiersprache sog. _Funktionen_."
   ]
  },
  {
   "cell_type": "markdown",
   "metadata": {},
   "source": [
    "<a name=\"anatomie\"></a>Die Anatomie der Funktion\n",
    "==="
   ]
  },
  {
   "cell_type": "markdown",
   "metadata": {},
   "source": [
    "Ihr habt im Verlauf des Kurses schon sehr viele Funktionen kennen gelernt: immer wenn wir ein Kommando gefolgt von runden Klammern wie z.B. ```print()``` benutzt haben, handelt es sich um eine Funktion."
   ]
  },
  {
   "cell_type": "markdown",
   "metadata": {},
   "source": [
    "* Funktionen sind eine bestimmte Menge an Aktionen denen wir einen Namen geben.\n",
    "* Wir können die Aktionen ausführen, indem wir sie \"rufen\", also ihren Namen gefolgt von runden Klammern benutzen.\n",
    "* Funktionen können Variablen als Argumente übergeben bekommen und auf diesen Argumenten dann Aktionen ausführen.\n",
    "* Funktionen können Variablen an den Rest des Codes \"zurückgeben\"."
   ]
  },
  {
   "cell_type": "markdown",
   "metadata": {},
   "source": [
    "##### Eine einfache Funktion"
   ]
  },
  {
   "cell_type": "code",
   "execution_count": null,
   "metadata": {
    "collapsed": true
   },
   "outputs": [],
   "source": [
    "word = 'hello'\n",
    "print(word)"
   ]
  },
  {
   "cell_type": "markdown",
   "metadata": {},
   "source": [
    "* ```print``` ist der Name der Funktion\n",
    "* \"word\" ist die Variable, die wir der Funktion als Argument übergeben\n",
    "* die Ausgabe auf der Kommandozeile ist die Aktion der Funktion: das Argument wird also ausgegeben\n"
   ]
  },
  {
   "cell_type": "markdown",
   "metadata": {},
   "source": [
    "##### Noch ein Beispiel"
   ]
  },
  {
   "cell_type": "code",
   "execution_count": null,
   "metadata": {
    "collapsed": true
   },
   "outputs": [],
   "source": [
    "numbers = [1, 2, 3, 4]\n",
    "summe = sum(numbers)\n",
    "\n",
    "print(summe)"
   ]
  },
  {
   "cell_type": "markdown",
   "metadata": {},
   "source": [
    "* ```sum``` ist der Name der Funktion\n",
    "* \"numbers\" ist die Variable, die wir der Funktion als Argument übergeben\n",
    "* das Summieren aller Elemente des Arguments ist die Aktion der Funktion  \n",
    "\n",
    "**WICHTIG:** hier sehen wir schon, dass wir einer Funktion nicht beliebige Variablen als Argumente übergeben können. Eine Summe über einen String z.B. ergibt keinen Sinn:"
   ]
  },
  {
   "cell_type": "code",
   "execution_count": 2,
   "metadata": {},
   "outputs": [
    {
     "ename": "TypeError",
     "evalue": "unsupported operand type(s) for +: 'int' and 'str'",
     "output_type": "error",
     "traceback": [
      "\u001b[0;31m---------------------------------------------------------------------------\u001b[0m",
      "\u001b[0;31mTypeError\u001b[0m                                 Traceback (most recent call last)",
      "\u001b[0;32m<ipython-input-2-3131d400c29e>\u001b[0m in \u001b[0;36m<module>\u001b[0;34m()\u001b[0m\n\u001b[0;32m----> 1\u001b[0;31m \u001b[0msum\u001b[0m\u001b[0;34m(\u001b[0m\u001b[0;34m[\u001b[0m\u001b[0;34m'a'\u001b[0m\u001b[0;34m,\u001b[0m\u001b[0;34m'b'\u001b[0m\u001b[0;34m]\u001b[0m\u001b[0;34m)\u001b[0m\u001b[0;34m\u001b[0m\u001b[0m\n\u001b[0m",
      "\u001b[0;31mTypeError\u001b[0m: unsupported operand type(s) for +: 'int' and 'str'"
     ]
    }
   ],
   "source": [
    "sum(['a','b'])"
   ]
  },
  {
   "cell_type": "markdown",
   "metadata": {},
   "source": [
    "Wenn das Argument der Funktion nicht mit der Aktion der Funktion vereinbar ist, dann gibt es einen **TypeError** der uns darauf hinweist, dass der Typ der Variablen nicht der richtige ist."
   ]
  },
  {
   "cell_type": "markdown",
   "metadata": {},
   "source": [
    "[top](#top)"
   ]
  },
  {
   "cell_type": "markdown",
   "metadata": {},
   "source": [
    "<a name=\"syntax\"></a>Syntax\n",
    "---"
   ]
  },
  {
   "cell_type": "markdown",
   "metadata": {},
   "source": [
    "Bis jetzt hatten wir es nur mit eingebauten, also vorher schon definierten Funktionen mit festgelegten Aktionen zu tun. Wir können uns allerdings auch unsere eigenen Funktionen basteln.  \n",
    "\n",
    "Im Alltag des Programmierers ist es üblich, wiederkehrende Aktionen in Funktionen zusammenzufassen aber auch viele vordefinierte Funktionen zu benutzen, um nicht immer wieder das Rad neu zu erfinden."
   ]
  },
  {
   "cell_type": "markdown",
   "metadata": {},
   "source": [
    "Um eine komplett neue Funktion zu definieren, benutzen wir das ```def``` Keyword:"
   ]
  },
  {
   "cell_type": "code",
   "execution_count": 12,
   "metadata": {
    "collapsed": true
   },
   "outputs": [],
   "source": [
    "# dies ist der Kopf der Funktion\n",
    "# hier wird der Name und die Anzahl der \n",
    "# Argumente definiert\n",
    "def my_function(argument):\n",
    "    \n",
    "    # dies ist der Körper der Funktion\n",
    "    # hier werden die Aktionen definiert\n",
    "    cube = argument * argument * argument\n",
    "    print(cube)\n",
    "    \n",
    "def quadrat(argument):\n",
    "    quadr = argument * argument\n",
    "    print(quadr)\n",
    "# wir haben uns also eine Funktion gebaut, \n",
    "# die ihr Argument hoch drei nimmt und es\n",
    "# auf der Kommandozeile ausgibt"
   ]
  },
  {
   "cell_type": "code",
   "execution_count": 10,
   "metadata": {},
   "outputs": [
    {
     "name": "stdout",
     "output_type": "stream",
     "text": [
      "100\n"
     ]
    }
   ],
   "source": [
    "quadrat(10)"
   ]
  },
  {
   "cell_type": "code",
   "execution_count": 11,
   "metadata": {},
   "outputs": [
    {
     "name": "stdout",
     "output_type": "stream",
     "text": [
      "1000\n"
     ]
    }
   ],
   "source": [
    "my_function(10)"
   ]
  },
  {
   "cell_type": "code",
   "execution_count": 6,
   "metadata": {},
   "outputs": [
    {
     "name": "stdout",
     "output_type": "stream",
     "text": [
      "27\n",
      "1000\n"
     ]
    }
   ],
   "source": [
    "my_function(3)\n",
    "blubb = 10\n",
    "my_function(blubb)"
   ]
  },
  {
   "cell_type": "markdown",
   "metadata": {},
   "source": [
    "Wichtig ist auch zu beachten, dass das der Funktionskopf mit einem Doppelpunkt abgeschlossen wird und der Funktionskörper eingerückt wird, um ihn vom Rest des Codes zu trennen."
   ]
  },
  {
   "cell_type": "markdown",
   "metadata": {},
   "source": [
    "Die Definition der Funktion selbst ruft erstmal keine weiteren Aktionen hervor. Wir müssen die Funktion erst mit ihrem Namen _rufen_ bevor sie etwas tut:"
   ]
  },
  {
   "cell_type": "code",
   "execution_count": 13,
   "metadata": {},
   "outputs": [
    {
     "name": "stdout",
     "output_type": "stream",
     "text": [
      "27\n"
     ]
    }
   ],
   "source": [
    "x = 3\n",
    "# rufe die Funktion mit dem Argument \"x\"\n",
    "my_function(x)"
   ]
  },
  {
   "cell_type": "markdown",
   "metadata": {},
   "source": [
    "**WICHTIG:** durch das Ausführen der Funktion verändert sich der Wert der Variablen, die wir der Funktion als Argument geben nicht:"
   ]
  },
  {
   "cell_type": "code",
   "execution_count": 14,
   "metadata": {},
   "outputs": [
    {
     "name": "stdout",
     "output_type": "stream",
     "text": [
      "64\n",
      "Wert von y: 4\n"
     ]
    }
   ],
   "source": [
    "# lege Wert von y fest\n",
    "y = 4\n",
    "\n",
    "# rufe Funktion mit y als Argument\n",
    "my_function(y)\n",
    "\n",
    "# überprüfe, dass der Wert von y\n",
    "# sich nicht verändert hat\n",
    "print('Wert von y: {}'.format(y))"
   ]
  },
  {
   "cell_type": "markdown",
   "metadata": {},
   "source": [
    "[top](#top)"
   ]
  },
  {
   "cell_type": "markdown",
   "metadata": {},
   "source": [
    "<a name=\"namespaces\"></a>Namespaces\n",
    "---"
   ]
  },
  {
   "cell_type": "markdown",
   "metadata": {},
   "source": [
    "**WICHTIG:** innerhalb der Funktion haben wir die Variable \"cube\" definiert. Diese Variable ist dem Programm außerhalb der Funktion nicht bekannt! Lasst uns das überprüfen:"
   ]
  },
  {
   "cell_type": "code",
   "execution_count": 17,
   "metadata": {},
   "outputs": [
    {
     "name": "stdout",
     "output_type": "stream",
     "text": [
      "64\n",
      "a: 10\n"
     ]
    }
   ],
   "source": [
    "# die Funktion steht hier nur zur Erinnerung\n",
    "# noch einmal, eigentlich ist sie unserem \n",
    "# Programm schon von der Definition oben bekannt!\n",
    "a = 10\n",
    "\n",
    "def my_function(argument):\n",
    "    cube = argument * argument * argument\n",
    "    print(cube)\n",
    "    print('a: {}'.format(a))\n",
    "\n",
    "my_function(4)"
   ]
  },
  {
   "cell_type": "markdown",
   "metadata": {},
   "source": [
    "Wir nennen das Innere der Funktion den _Namespace_ der Funktion. Innerhalb eines Namespaces sind alle in ihm definierten Variablen bekannt, außerhalb nicht!  \n",
    "In Python gibt es verschiedene Namespaces:\n",
    "* den globalen, überall bekannten Namespace\n",
    "* den Namespace von loops (wir erinnern uns an die temporären Variablen!)\n",
    "* den Namespace von Funktionen"
   ]
  },
  {
   "cell_type": "markdown",
   "metadata": {},
   "source": [
    "Innerhalb einer Funktion sind Variablen mit den Namen bekannt, die wir im Funktionskopf definiert haben. my_function kennt also die Variable \"argument\" und wir können sie im Funktionskörper benutzen."
   ]
  },
  {
   "cell_type": "markdown",
   "metadata": {},
   "source": [
    "[top](#top)"
   ]
  },
  {
   "cell_type": "markdown",
   "metadata": {},
   "source": [
    "<a name=\"return\"></a>Rückgabewerte\n",
    "---"
   ]
  },
  {
   "cell_type": "markdown",
   "metadata": {},
   "source": [
    "Manchmal möchten wir den Wert einer Variablen aus dem Namespace der Funktion hinaus in den globalen Namespace befördern, um ihn dort weiter zu verwenden. Dafür können wir einer Funktion einen sog. _Rückgabewert_ geben. Das tun wir mit dem ```return``` Keyword:"
   ]
  },
  {
   "cell_type": "code",
   "execution_count": 23,
   "metadata": {
    "collapsed": true
   },
   "outputs": [],
   "source": [
    "# die gleiche Funktion wie vorhin, aber\n",
    "# statt cube auf der Kommandozeile auszugeben\n",
    "# gibt sie cube an den nachfolgenden Code weiter\n",
    "def my_function(argument):\n",
    "    cube = argument * argument * argument\n",
    "    \n",
    "    # hier wird cube \"zurückgegeben\"\n",
    "    return cube"
   ]
  },
  {
   "cell_type": "markdown",
   "metadata": {},
   "source": [
    "Um die Funktion zu testen, müssen wir sie wieder rufen:"
   ]
  },
  {
   "cell_type": "code",
   "execution_count": 26,
   "metadata": {},
   "outputs": [
    {
     "name": "stdout",
     "output_type": "stream",
     "text": [
      "1002\n"
     ]
    }
   ],
   "source": [
    "# definiere eine Variable\n",
    "x = 10\n",
    "\n",
    "# übergib sie an die Funktion und weise\n",
    "# den Rückgabewert einer neuen Variablen zu\n",
    "anderer_name = my_function(x)\n",
    "anderer_name = anderer_name + 2\n",
    "\n",
    "# überprüfe das Ergebnis\n",
    "print(anderer_name)"
   ]
  },
  {
   "cell_type": "markdown",
   "metadata": {},
   "source": [
    "[top](#top)"
   ]
  },
  {
   "cell_type": "markdown",
   "metadata": {},
   "source": [
    "<a name=\"beispiele\"></a>Beispiele\n",
    "---"
   ]
  },
  {
   "cell_type": "markdown",
   "metadata": {},
   "source": [
    "Um das Konzept Funktion noch ein bisschen besser zu Illustrieren, ein paar Beispiele:"
   ]
  },
  {
   "cell_type": "code",
   "execution_count": 31,
   "metadata": {},
   "outputs": [
    {
     "name": "stdout",
     "output_type": "stream",
     "text": [
      "2500\n"
     ]
    }
   ],
   "source": [
    "# ein einfaches Polynom\n",
    "def f(x):\n",
    "    # merke: wir können das Ergebnis auch\n",
    "    # direkt zurückgeben, ohne es vorher\n",
    "    # zwischenzuspeichern\n",
    "    ergebnis = 2 * x**2 + 4 * x + 10\n",
    "    return ergebnis\n",
    "\n",
    "x = 10\n",
    "berechnung = f(x)\n",
    "\n",
    "berechnung = berechnung * 10\n",
    "print(berechnung)"
   ]
  },
  {
   "cell_type": "code",
   "execution_count": 39,
   "metadata": {},
   "outputs": [],
   "source": [
    "# eine Funktion, die Emails schreiben könnte\n",
    "def print_greeting(person):\n",
    "    \n",
    "    # merke: die Funktion hat keinen Rückgabewert\n",
    "    return 'Dear Prof {},\\nI would like to do a PhD with you.\\n'\\\n",
    "          .format(person)\n",
    "    \n",
    "rest_von_email = 'ganz toller text'    \n",
    "    \n",
    "statement1 = print_greeting('Kranz') + rest_von_email\n",
    "statement2 = print_greeting('Wagner')\n",
    "statement3 = print_greeting('Lasser')\n",
    "    "
   ]
  },
  {
   "cell_type": "code",
   "execution_count": 40,
   "metadata": {},
   "outputs": [
    {
     "name": "stdout",
     "output_type": "stream",
     "text": [
      "Dear Prof Kranz,\n",
      "I would like to do a PhD with you.\n",
      "ganz toller text\n",
      "Dear Prof Wagner,\n",
      "I would like to do a PhD with you.\n",
      "\n",
      "Dear Prof Lasser,\n",
      "I would like to do a PhD with you.\n",
      "\n"
     ]
    }
   ],
   "source": [
    "print(statement1)\n",
    "print(statement2)\n",
    "print(statement3)"
   ]
  },
  {
   "cell_type": "code",
   "execution_count": 41,
   "metadata": {},
   "outputs": [
    {
     "name": "stdout",
     "output_type": "stream",
     "text": [
      "*** important keyboard shortcuts: ***\n",
      "             edit mode - ENTER\n",
      "             command mode - ESC\n",
      "             cell to markdown - m\n",
      "             cell to code - y\n"
     ]
    }
   ],
   "source": [
    "# eine Funktion, die einen Hilfs-Text ausgibt\n",
    "def print_help():\n",
    "    \n",
    "    # merke: die Funktion hat kein Argument\n",
    "    print('''*** important keyboard shortcuts: ***\n",
    "             edit mode - ENTER\n",
    "             command mode - ESC\n",
    "             cell to markdown - m\n",
    "             cell to code - y''')\n",
    "    \n",
    "print_help()"
   ]
  },
  {
   "cell_type": "markdown",
   "metadata": {},
   "source": [
    "[top](#top)"
   ]
  },
  {
   "cell_type": "markdown",
   "metadata": {},
   "source": [
    "<a name=\"Argumente\"></a>Argumente\n",
    "==="
   ]
  },
  {
   "cell_type": "markdown",
   "metadata": {},
   "source": [
    "Bis jetzt haben wir Funktionen immer entweder ein oder kein Argument mitgegeben. Wir müssen uns aber nicht darauf beschränken. Es gibt kein Limit für die Anzahl der Argumente, die wir einer Funktion mitgeben können!"
   ]
  },
  {
   "cell_type": "code",
   "execution_count": 43,
   "metadata": {
    "collapsed": true
   },
   "outputs": [],
   "source": [
    "# eine Funktion mit zwei Variablen\n",
    "def mittagessen(hauptgericht, beilage):\n",
    "    \n",
    "    # die Funktion gibt nur eine Nachricht auf\n",
    "    # der Kommandozeile aus\n",
    "    print('heute gibt es {} mit {} als beilage zu essen'\\\n",
    "          .format(hauptgericht, beilage))\n",
    "    \n"
   ]
  },
  {
   "cell_type": "code",
   "execution_count": 45,
   "metadata": {},
   "outputs": [
    {
     "name": "stdout",
     "output_type": "stream",
     "text": [
      "heute gibt es schnitzel mit kartoffel als beilage zu essen\n",
      "heute gibt es curry mit reis als beilage zu essen\n",
      "heute gibt es 3 mit apfel als beilage zu essen\n"
     ]
    }
   ],
   "source": [
    "mittagessen('schnitzel','kartoffel')\n",
    "mittagessen('curry','reis')\n",
    "\n",
    "# die Funktion akzeptiert zwar Zahlen als Argumente,\n",
    "# das Ergebnis ist aber nicht umbedingt sinnvoll...\n",
    "mittagessen(3, 'apfel')"
   ]
  },
  {
   "cell_type": "code",
   "execution_count": 46,
   "metadata": {},
   "outputs": [
    {
     "name": "stdout",
     "output_type": "stream",
     "text": [
      "heute gibt es kartoffel mit schnitzel als beilage zu essen\n"
     ]
    }
   ],
   "source": [
    "mittagessen('kartoffel','schnitzel')"
   ]
  },
  {
   "cell_type": "markdown",
   "metadata": {},
   "source": [
    "<a name=\"positional\"></a>Positionsabhängige Argumente\n",
    "---"
   ]
  },
  {
   "cell_type": "markdown",
   "metadata": {},
   "source": [
    "Wenn wir einer Funktion mehr als ein Argument übergeben, spielt die Reihenfolge der Argumente eine wichtige Rolle. Die Bedeutun eines Argumentes innerhalb des Funktionskörpers wird nämlich von seiner Position im Funktionskopf bestimmt!"
   ]
  },
  {
   "cell_type": "code",
   "execution_count": null,
   "metadata": {
    "collapsed": true
   },
   "outputs": [],
   "source": [
    "mittagessen('reis', 'schnitzel')"
   ]
  },
  {
   "cell_type": "code",
   "execution_count": 47,
   "metadata": {},
   "outputs": [
    {
     "name": "stdout",
     "output_type": "stream",
     "text": [
      "Vorname: Jana\n",
      "Nachname: Lasser\n",
      "Alter: 26\n",
      "\n",
      "Vorname: Nina\n",
      "Nachname: Merz\n",
      "Alter: 32\n",
      "\n",
      "Vorname: Simon\n",
      "Nachname: Mueller\n",
      "Alter: 68\n",
      "\n"
     ]
    }
   ],
   "source": [
    "# Die Funktion nimmt Vorname, Nachname und Alter\n",
    "# einer Person und gibt eine einfache Beschreibung aus.\n",
    "def beschreibe_person(vorname, nachname, alter):\n",
    "\n",
    "    # HINWEIS: title() schreibt einen String groß\n",
    "    print(\"Vorname: {}\".format(vorname.title()))\n",
    "    print(\"Nachname: {}\".format(nachname.title()))\n",
    "    print(\"Alter: {}\\n\".format(alter))\n",
    "\n",
    "beschreibe_person('jana', 'lasser', 26)\n",
    "beschreibe_person('nina', 'merz', 32)\n",
    "beschreibe_person('simon', 'mueller', 68)"
   ]
  },
  {
   "cell_type": "markdown",
   "metadata": {},
   "source": [
    "Wenn wir die Funktion rufen, werden die Argumente also folgendermaßen den Variablennamen innerhalb der Funktion zugewiesen:\n",
    "* position 1 $\\rightarrow$ vorname\n",
    "* position 2 $\\rightarrow$ nachname\n",
    "* position 3 $\\rightarrow$ alter"
   ]
  },
  {
   "cell_type": "markdown",
   "metadata": {},
   "source": [
    "Wenn wir der Funktion also (jana, lasser, 26) übergeben, dann erhalten wir korrekterweise\n",
    "* vorname = jana\n",
    "* nachname = lasser\n",
    "* alter = 26"
   ]
  },
  {
   "cell_type": "markdown",
   "metadata": {},
   "source": [
    "Wenn wir der Funktion aber (lasser, jana, 26) übergeben, erhalten wir die falsche Zuordnung\n",
    "* vorname: lasser\n",
    "* nachname: jana\n",
    "* alter: 26"
   ]
  },
  {
   "cell_type": "markdown",
   "metadata": {},
   "source": [
    "Noch schlimmer wird es, wenn wir einen Wert an einer Position übergeben, mit dem die Funktion nichts anfangen kann:"
   ]
  },
  {
   "cell_type": "code",
   "execution_count": 48,
   "metadata": {},
   "outputs": [
    {
     "ename": "AttributeError",
     "evalue": "'int' object has no attribute 'title'",
     "output_type": "error",
     "traceback": [
      "\u001b[0;31m---------------------------------------------------------------------------\u001b[0m",
      "\u001b[0;31mAttributeError\u001b[0m                            Traceback (most recent call last)",
      "\u001b[0;32m<ipython-input-48-caf8aaee8d86>\u001b[0m in \u001b[0;36m<module>\u001b[0;34m()\u001b[0m\n\u001b[0;32m----> 1\u001b[0;31m \u001b[0mbeschreibe_person\u001b[0m\u001b[0;34m(\u001b[0m\u001b[0;36m26\u001b[0m\u001b[0;34m,\u001b[0m \u001b[0;34m'jana'\u001b[0m\u001b[0;34m,\u001b[0m \u001b[0;34m'lasser'\u001b[0m\u001b[0;34m)\u001b[0m\u001b[0;34m\u001b[0m\u001b[0m\n\u001b[0m",
      "\u001b[0;32m<ipython-input-47-31a8513adaa7>\u001b[0m in \u001b[0;36mbeschreibe_person\u001b[0;34m(vorname, nachname, alter)\u001b[0m\n\u001b[1;32m      4\u001b[0m \u001b[0;34m\u001b[0m\u001b[0m\n\u001b[1;32m      5\u001b[0m     \u001b[0;31m# HINWEIS: title() schreibt einen String groß\u001b[0m\u001b[0;34m\u001b[0m\u001b[0;34m\u001b[0m\u001b[0m\n\u001b[0;32m----> 6\u001b[0;31m     \u001b[0mprint\u001b[0m\u001b[0;34m(\u001b[0m\u001b[0;34m\"Vorname: {}\"\u001b[0m\u001b[0;34m.\u001b[0m\u001b[0mformat\u001b[0m\u001b[0;34m(\u001b[0m\u001b[0mvorname\u001b[0m\u001b[0;34m.\u001b[0m\u001b[0mtitle\u001b[0m\u001b[0;34m(\u001b[0m\u001b[0;34m)\u001b[0m\u001b[0;34m)\u001b[0m\u001b[0;34m)\u001b[0m\u001b[0;34m\u001b[0m\u001b[0m\n\u001b[0m\u001b[1;32m      7\u001b[0m     \u001b[0mprint\u001b[0m\u001b[0;34m(\u001b[0m\u001b[0;34m\"Nachname: {}\"\u001b[0m\u001b[0;34m.\u001b[0m\u001b[0mformat\u001b[0m\u001b[0;34m(\u001b[0m\u001b[0mnachname\u001b[0m\u001b[0;34m.\u001b[0m\u001b[0mtitle\u001b[0m\u001b[0;34m(\u001b[0m\u001b[0;34m)\u001b[0m\u001b[0;34m)\u001b[0m\u001b[0;34m)\u001b[0m\u001b[0;34m\u001b[0m\u001b[0m\n\u001b[1;32m      8\u001b[0m     \u001b[0mprint\u001b[0m\u001b[0;34m(\u001b[0m\u001b[0;34m\"Alter: {}\\n\"\u001b[0m\u001b[0;34m.\u001b[0m\u001b[0mformat\u001b[0m\u001b[0;34m(\u001b[0m\u001b[0malter\u001b[0m\u001b[0;34m)\u001b[0m\u001b[0;34m)\u001b[0m\u001b[0;34m\u001b[0m\u001b[0m\n",
      "\u001b[0;31mAttributeError\u001b[0m: 'int' object has no attribute 'title'"
     ]
    }
   ],
   "source": [
    "beschreibe_person(26, 'jana', 'lasser')"
   ]
  },
  {
   "cell_type": "markdown",
   "metadata": {},
   "source": [
    "[top](#top)"
   ]
  },
  {
   "cell_type": "markdown",
   "metadata": {},
   "source": [
    "<a name=\"default\"></a>Default Argumente\n",
    "---"
   ]
  },
  {
   "cell_type": "markdown",
   "metadata": {},
   "source": [
    "Manchmal möchten wir die Wahl haben, ob wir einer Funktion einen spezifischen Wert mitgeben wollen oder lieber ein vordefiniertes default-Verhalten haben möchten. Dafür können wir sog. _default Argumente_ definieren:"
   ]
  },
  {
   "cell_type": "code",
   "execution_count": 49,
   "metadata": {},
   "outputs": [
    {
     "name": "stdout",
     "output_type": "stream",
     "text": [
      "\n",
      "You are doing good work, Bianca!\n",
      "\n",
      "You are doing good work, Katrin!\n",
      "\n",
      "You are doing good work, everyone!\n"
     ]
    }
   ],
   "source": [
    "# die Funktion gibt eine Nachricht an \"name\" aus\n",
    "# wenn \"name\" nicht spezifiziert ist, wird die \n",
    "# Nachricht an \"everyone\" ausgegeben (default-Verhalten)\n",
    "def thank_you(name='everyone'):\n",
    "    print(\"\\nYou are doing good work, {}!\".format(name))\n",
    "    \n",
    "thank_you('Bianca')\n",
    "thank_you('Katrin')\n",
    "thank_you()"
   ]
  },
  {
   "cell_type": "markdown",
   "metadata": {},
   "source": [
    "Natürlich können wir positionsabhängige und default-Argumente auch mischen.  \n",
    "\n",
    "**WICHTIG:** zuerst müssen immer die positionsabhängigen, dann erst die default-Argumente im Funktionskopf stehen!"
   ]
  },
  {
   "cell_type": "code",
   "execution_count": 53,
   "metadata": {},
   "outputs": [
    {
     "name": "stdout",
     "output_type": "stream",
     "text": [
      "16\n",
      "4\n",
      "1036\n"
     ]
    }
   ],
   "source": [
    "# eine Funktion, die ein Basis mit einem\n",
    "# Exponenten potenziert. Der Exponent ist\n",
    "# als default-Argument vorgegeben\n",
    "def power(base, exponent=2):\n",
    "    return base ** exponent\n",
    "\n",
    "# hier übergeben wir sowohl Basis als auch\n",
    "# Exponent an die Funktion\n",
    "print(power(2,4))\n",
    "\n",
    "# hier übergeben wir nur die Basis, der\n",
    "# Exponent dann ist automatisch 2\n",
    "print(power(2))\n",
    "\n",
    "ergebnis = (power(2,8) + 3)*4\n",
    "print(ergebnis)"
   ]
  },
  {
   "cell_type": "code",
   "execution_count": 52,
   "metadata": {},
   "outputs": [
    {
     "ename": "TypeError",
     "evalue": "power() missing 1 required positional argument: 'base'",
     "output_type": "error",
     "traceback": [
      "\u001b[0;31m---------------------------------------------------------------------------\u001b[0m",
      "\u001b[0;31mTypeError\u001b[0m                                 Traceback (most recent call last)",
      "\u001b[0;32m<ipython-input-52-5b2c7fdf27f7>\u001b[0m in \u001b[0;36m<module>\u001b[0;34m()\u001b[0m\n\u001b[0;32m----> 1\u001b[0;31m \u001b[0mpower\u001b[0m\u001b[0;34m(\u001b[0m\u001b[0;34m)\u001b[0m\u001b[0;34m\u001b[0m\u001b[0m\n\u001b[0m",
      "\u001b[0;31mTypeError\u001b[0m: power() missing 1 required positional argument: 'base'"
     ]
    }
   ],
   "source": [
    "power()"
   ]
  },
  {
   "cell_type": "markdown",
   "metadata": {},
   "source": [
    "#####  Exkurs: None"
   ]
  },
  {
   "cell_type": "markdown",
   "metadata": {},
   "source": [
    "In fast jeder Programmiersprache gibt es einen Wert der für \"nichts\" steht. Dieser Wert ist zu unterscheiden von 0 oder **False**. Er ist keine Zahl und auch kein bool'scher Wert sondern ein eigenes Objekt für \"nichts\".  \n",
    "\n",
    "In Python ist dieser Wert **none**. Er wird z.B. benutzt, wenn etwas explizit _nicht_ definiert wird. Wichtig ist, dass **none** einen Wahrheitswert von **False** hat, während jedes andere Objekt (Zahl, String, Liste) einen Wahrheitswert von **True** hat. Entsprechend können wir sehr einfach die Existenz von etwas überprüfen. Im Folgenden werden wir das brauchen."
   ]
  },
  {
   "cell_type": "markdown",
   "metadata": {},
   "source": [
    "[top](#top)"
   ]
  },
  {
   "cell_type": "markdown",
   "metadata": {},
   "source": [
    "<a name=\"keyword\"></a>Keyword-Argumente\n",
    "---"
   ]
  },
  {
   "cell_type": "markdown",
   "metadata": {},
   "source": [
    "Sogenannte _keyword Argumente_ sind den default-Argumenten sehr Ähnlich. Der Unterschied ist, dass ihr default Wert **none** ist, sie also per Default nicht existieren aber auf Wunsch \"dazugeschaltet\" werden können wenn sie einmal definiert sind.  \n",
    "\n",
    "Wenn wir z.B. unserer beschreibe_person Funktion ermöglichen wollen, zusätzliche Informationen in die Beschreibung einzubauen, wenn diese denn vorhanden sind, kann nutzen wir dafür keyword-Argumente:"
   ]
  },
  {
   "cell_type": "code",
   "execution_count": null,
   "metadata": {
    "collapsed": true
   },
   "outputs": [],
   "source": [
    "# Funktionskopf mit keyword-Argumenten\n",
    "def beschreibe_person(vorname, nachname, alter=None, \\\n",
    "                    muttersprache=None, gestorben=None):\n",
    "    \n",
    "    # dieser Teil ist nicht optional\n",
    "    print(\"Vorname: {}\".format(vorname))\n",
    "    print(\"Nachname: {}\".format(nachname))\n",
    "    \n",
    "    # optionale Information:\n",
    "    if alter:\n",
    "        print(\"Alter: {}\".format(alter))\n",
    "    if muttersprache:\n",
    "        print(\"Muttersprache: {}\".format(muttersprache))\n",
    "    if gestorben:\n",
    "        print(\"Gestorben: {}\".format(gestorben))\n",
    "        \n",
    "    # füge Leerzeile am Ende ein.\n",
    "    print(\"\\n\")\n",
    "\n",
    "\n",
    "beschreibe_person('jana', 'lasser', \\\n",
    "                  muttersprache='Deutsch')\n",
    "beschreibe_person('adele', 'goldberg', \\\n",
    "                  alter=68, muttersprache='Hebräisch')\n",
    "beschreibe_person('michael', 'jackson', \\\n",
    "                  muttersprache='Englisch', gestorben=2009)"
   ]
  },
  {
   "cell_type": "markdown",
   "metadata": {},
   "source": [
    "[top](#top)"
   ]
  },
  {
   "cell_type": "markdown",
   "metadata": {},
   "source": [
    "<a name=\"vorteile\"></a>Vorteile von Funktionen\n",
    "---"
   ]
  },
  {
   "cell_type": "markdown",
   "metadata": {},
   "source": [
    "Der Ansatz, Programme mit Hilfe von Funktionen zu strukturieren wird _prozedurale Programmierung_ genannt. Zusammen mit der objektorientierten Programmierung ist sie eines von mehreren _Programmierparadigmen_ also Stilen, seinen Code zu schreiben.  \n",
    "\n",
    "Vorteile von prozeduraler Programmierung:\n",
    "* Instruktionen werden nur einmal geschrieben, in eine Funktion verpack und dann wiederverwendet wo immer sie gebraucht werden $\\rightarrow$ das spart Arbeitszeit.\n",
    "* Instruktionen an einem Ort zu versammeln macht es einfacher, den Code fehlerfrei zu halten.\n",
    "* Veränderungen müssen immer nur an einem Ort durchgeführt werden und wirken im ganzen Code.\n",
    "* Funktionen können den Code einfacher verständlich und eleganter machen - und das ist wichtig!"
   ]
  },
  {
   "cell_type": "markdown",
   "metadata": {},
   "source": [
    "[top](#top)"
   ]
  },
  {
   "cell_type": "markdown",
   "metadata": {},
   "source": [
    "<a name=\"uebung05\"></a>Übung 05: Funktionen\n",
    "==="
   ]
  },
  {
   "cell_type": "markdown",
   "metadata": {},
   "source": [
    "1. **Funktionen**\n",
    "  1. Schreibe eine Funktion, die zwei Zahlen als Argumente erhält und ihre Summe, Differenz, Produkt und Quotienten auf der Kommandozeile ausgibt.\n",
    "  2. Schreibe eine Funktion, die eine Liste mit Zahlen als ein einzelnes Argument erhält und die Summe der Quadrate der Zahlen zurückgibt.\n",
    "  3. **(Optional)** Schreibe eine Funktion, die eine Liste mit Zahlen als Argument erhält, diese sortiert und dann zurückgibt (benutze hierfür nicht ```sort()```, sonst wäre es ja langweilig...)\n",
    "2. **Argumente**\n",
    "  1. Schreibe eine Funktion, die fünf Argumente (x, a, b, c, d) erhält und aus ihnen ein Polynom vom Grad drei  \n",
    "  $f(x) = ax^3 + bx^2 + cx + d$  \n",
    "  berechnet und den Wert zurückgibt.\n",
    "  2. Experimentiere ein wenig mit der Funktion und berechne ein paar Polynome.\n",
    "  3. Modifiziere die Funktion so, dass die Koeffizienten a, b, c und d default-Werte bekommen.\n",
    "  4. **(Optional)** füge der Funktion ein keyword-Argument \"ausgabe\" hinzu. \n",
    "    * Wenn gilt ausgabe = False verhält sich die Funktion wie vorhin\n",
    "    * Wenn gilt ausgabe = True gibt sie die Werte der Koeffizienten noch einmal schön formatiert auf der Kommandozeile aus."
   ]
  },
  {
   "cell_type": "markdown",
   "metadata": {},
   "source": [
    "[top](#top)"
   ]
  }
 ],
 "metadata": {
  "kernelspec": {
   "display_name": "Python 3",
   "language": "python",
   "name": "python3"
  },
  "language_info": {
   "codemirror_mode": {
    "name": "ipython",
    "version": 3
   },
   "file_extension": ".py",
   "mimetype": "text/x-python",
   "name": "python",
   "nbconvert_exporter": "python",
   "pygments_lexer": "ipython3",
   "version": "3.5.2"
  }
 },
 "nbformat": 4,
 "nbformat_minor": 1
}
