{
 "cells": [
  {
   "cell_type": "markdown",
   "metadata": {},
   "source": [
    "<a name=\"loesung05\"></a>Lösung Übung 05\n",
    "==="
   ]
  },
  {
   "cell_type": "code",
   "execution_count": 1,
   "metadata": {},
   "outputs": [
    {
     "name": "stdout",
     "output_type": "stream",
     "text": [
      "summe: 13\n",
      "differenz: 3\n",
      "produkt: 40\n",
      "quotient: 1.6\n"
     ]
    }
   ],
   "source": [
    "# 1.a\n",
    "\n",
    "# Funktionskopf mit Definition von Name und\n",
    "# Anzahl der Argumente\n",
    "def rechenfunktion(x, y):\n",
    "    # Funktionskörper \n",
    "    \n",
    "    # Berechnungen\n",
    "    summe = x + y\n",
    "    differenz = x - y\n",
    "    produkt = x * y\n",
    "    quotient = x / y\n",
    "    \n",
    "    # Ausgabe\n",
    "    print('summe: {}'.format(summe))\n",
    "    print('differenz: {}'.format(differenz))\n",
    "    print('produkt: {}'.format(produkt))\n",
    "    print('quotient: {}'.format(quotient))\n",
    "    # Funktionsdefinition ist hier zu Ende\n",
    "    \n",
    "# rufe die Funktion mit den Argumenten 8 und 5\n",
    "# Zuordnung: 8 -> x, 5 -> y\n",
    "rechenfunktion(8, 5)"
   ]
  },
  {
   "cell_type": "code",
   "execution_count": 2,
   "metadata": {},
   "outputs": [
    {
     "data": {
      "text/plain": [
       "55"
      ]
     },
     "execution_count": 2,
     "metadata": {},
     "output_type": "execute_result"
    }
   ],
   "source": [
    "# 1.b\n",
    "# Definition der Funktion mit name und Anzahl der Argumente\n",
    "def summe_quadrate(liste):\n",
    "    \n",
    "    # in dieser lokalen Variablen wird das\n",
    "    # Zwischenergebnis gespeichert\n",
    "    summe = 0\n",
    "    \n",
    "    # iteriere über alle Zahlen in der Liste\n",
    "    # die der Funktion übergeben wurde3\n",
    "    for zahl in liste:\n",
    "        # addiere das Quadrat der aktuellen Zahl zum\n",
    "        # Zwischenergebnis\n",
    "        summe  = summe + zahl * zahl\n",
    "    \n",
    "    # gib das Ergebnis zurück an den Rest des Programmes\n",
    "    return summe\n",
    "\n",
    "# erstelle eine Liste zum Testen\n",
    "neue_liste = list(range(1,6))\n",
    "\n",
    "# berechne die Summe der Quadrate der Listenelemente\n",
    "# mit Hilfe der oben definierten Funktion\n",
    "summe_quadrate(neue_liste)"
   ]
  },
  {
   "cell_type": "code",
   "execution_count": 3,
   "metadata": {},
   "outputs": [
    {
     "name": "stdout",
     "output_type": "stream",
     "text": [
      "[1, 1, 2, 2, 3, 4, 7, 10, 20]\n"
     ]
    }
   ],
   "source": [
    "# 1.c\n",
    "# Implementation des sog. \"Bubble Sort\" Algorithmus \n",
    "# (siehe https://de.wikipedia.org/wiki/Bubblesort)\n",
    "\n",
    "# Definition der Funktion mit Namen und Anzahl der Argumente\n",
    "def my_sort(original_liste):\n",
    "    \n",
    "    # Iteration über alle \n",
    "    for iteration in range(len(original_liste) - 1):\n",
    "        \n",
    "        for index in range(len(original_liste) - 1):\n",
    "            if original_liste[index] > original_liste[index + 1]:\n",
    "                temp = original_liste[index]\n",
    "                original_liste[index] = original_liste[index + 1]\n",
    "                original_liste[index + 1] = temp\n",
    "                \n",
    "test_liste = [3,4,1,7, 2, 10, 2, 20, 1]\n",
    "my_sort(test_liste)\n",
    "print(test_liste)\n",
    "                "
   ]
  },
  {
   "cell_type": "code",
   "execution_count": 8,
   "metadata": {},
   "outputs": [
    {
     "name": "stdout",
     "output_type": "stream",
     "text": [
      "56\n",
      "6\n",
      "8\n"
     ]
    }
   ],
   "source": [
    "# 2.a & 2.b\n",
    "# definiere die Funktion mit 5 positionsabhängigen\n",
    "# Argumenten\n",
    "def polynom(x, a, b, c, d):\n",
    "    return a * x**3 + b * x**2 + c * x + d\n",
    "\n",
    "# führe ein paar Tests durch\n",
    "print(polynom(2,3,4,5,6))\n",
    "print(polynom(0,0,0,0,6))\n",
    "print(polynom(2,1,0,0,0))"
   ]
  },
  {
   "cell_type": "code",
   "execution_count": 11,
   "metadata": {},
   "outputs": [
    {
     "name": "stdout",
     "output_type": "stream",
     "text": [
      "4\n",
      "15\n",
      "40\n",
      "67\n",
      "72\n"
     ]
    }
   ],
   "source": [
    "# 2.c\n",
    "# definiere die Funktion noch einmal, diesmal\n",
    "# sind a, b, c und d default-Argumente und haben\n",
    "# als default-Wert alle 1\n",
    "def polynom(x, a=1, b=1, c=1, d=1):\n",
    "    return a * x**3 + b * x**2 + c * x + d\n",
    "\n",
    "# jetzt kann ich die Funktion auch mit einem einzigen\n",
    "# Argument rufen, a, b, c und d werden beim \n",
    "# Ausführen automatisch auf 1 gesetzt\n",
    "print(polynom(1))\n",
    "print(polynom(2))\n",
    "print(polynom(3))\n",
    "\n",
    "# wenn ich möchte, kann ich beliebige Kombinationen\n",
    "# von a, b, c und d aber trotzdem mit angeben.\n",
    "# dabei wird das Argument auf Position 2 automatisch\n",
    "# der Variablen \"a\" im Funktionskörper zugewiesen,\n",
    "# das Argument auf Position 3 der Variablen \"b\" usw.\n",
    "print(polynom(3,2))\n",
    "\n",
    "# Möchte ich z.B. nur \"d\" angeben und a, b und c\n",
    "# bei ihren default-Werten lassen, muss ich beim\n",
    "# Rufen der Funktion d=Wert spezifizieren\n",
    "print(polynom(3,2,d=6))"
   ]
  },
  {
   "cell_type": "code",
   "execution_count": 16,
   "metadata": {},
   "outputs": [
    {
     "name": "stdout",
     "output_type": "stream",
     "text": [
      "f(x=2) = 1*x^3 + 1*x^2 + 1*x + 1 = 15\n",
      "15\n"
     ]
    }
   ],
   "source": [
    "# 2.d\n",
    "# definition der Funktion mit einem positional \n",
    "# Argument (x), vier default Argumenten (a,b,c,d)\n",
    "# und einem keyword Argument (ausgabe)\n",
    "def polynom(x, a=1, b=1, c=1, d=1, ausgabe=None):\n",
    "    # berechne das Ergebnis des Polynoms einmal\n",
    "    ergebnis = a * x**3 + b * x**2 + c * x + d\n",
    "    \n",
    "    # überprüfe, ob das keyword argument ausgabe\n",
    "    # gesetzt ist\n",
    "    if ausgabe:\n",
    "        # wenn ja, gib hübschen output auf der\n",
    "        # Kommandozeile aus\n",
    "        print('f(x={}) = {}*x^3 + {}*x^2 + {}*x + {} = {}'\\\n",
    "             .format(x, a, b, c, d, ergebnis))\n",
    "        # gib außerdem das errechnete Ergebnis zurück\n",
    "        return ergebnis\n",
    "    \n",
    "    # wenn nein, gib nur das errechnete Ergebnis zurück\n",
    "    else:\n",
    "        return ergebnis\n",
    "\n",
    "# teste ob die Funktion das tut, was sie soll...\n",
    "ergebnis = polynom(2,ausgabe=True)\n",
    "ergebnis = polynom(2)\n",
    "print(ergebnis)"
   ]
  }
 ],
 "metadata": {
  "kernelspec": {
   "display_name": "Python 3",
   "language": "python",
   "name": "python3"
  },
  "language_info": {
   "codemirror_mode": {
    "name": "ipython",
    "version": 3
   },
   "file_extension": ".py",
   "mimetype": "text/x-python",
   "name": "python",
   "nbconvert_exporter": "python",
   "pygments_lexer": "ipython3",
   "version": "3.5.2"
  }
 },
 "nbformat": 4,
 "nbformat_minor": 2
}
